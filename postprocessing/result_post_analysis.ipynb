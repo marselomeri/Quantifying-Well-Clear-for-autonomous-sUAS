{
 "cells": [
  {
   "cell_type": "code",
   "execution_count": 1,
   "id": "25994fb6-e06c-42ce-93d1-1f356ef30e2e",
   "metadata": {},
   "outputs": [],
   "source": [
    "import math\n",
    "import json\n",
    "import os\n",
    "import glob\n",
    "import numpy as np\n",
    "import argparse\n",
    "import plotly.graph_objects as go\n",
    "import functools\n",
    "from plotly.subplots import make_subplots\n",
    "from timeit import default_timer as timer\n",
    "import pickle\n",
    "from statistics import mean\n",
    "from chart_studio import plotly as py\n"
   ]
  },
  {
   "cell_type": "code",
   "execution_count": 2,
   "id": "9063ba48-e8e8-45cf-9d84-7651ca059743",
   "metadata": {},
   "outputs": [],
   "source": [
    "class Scenario:\n",
    "    def __init__(self,name,logs):\n",
    "        self.name = name\n",
    "        self.logs = logs\n",
    "        \n",
    "        \n",
    "        #self.params = self.logs[0]['parameters']\n",
    "    \n",
    "    @staticmethod\n",
    "    def resample(arr, step, tolerance,duration):\n",
    "        '''\n",
    "             resample per t'marre cdo x sekonda \n",
    "        '''\n",
    "        res = {}\n",
    "\n",
    "        for curr_time in range(0,duration,step):\n",
    "            candidates = []\n",
    "            diffs = []\n",
    "            #candidates_idx = []\n",
    "            #print(curr_time)\n",
    "            ub = 0\n",
    "            for i, t in enumerate(arr):\n",
    "                diff = abs(float(t - curr_time))\n",
    "                if diff <= tolerance:\n",
    "                    candidates.append(i)\n",
    "                    diffs.append(diff)\n",
    "            if len(diffs) == 1:\n",
    "                winner = candidates[0]\n",
    "            elif len(diffs) > 1:\n",
    "                val, idx = min((val, idx) for (idx, val) in enumerate(diffs)) #fut ate qe ka diferencen me t vogel me kohen e ownship\n",
    "                winner = candidates[idx]\n",
    "            else:\n",
    "                winner = -1\n",
    "                #print(\"Nuk gjetem gje per kohen \"+str(curr_time))\n",
    "            res[curr_time] = winner\n",
    "\n",
    "\n",
    "        return res\n",
    "    \n",
    "\n",
    "    @functools.cached_property\n",
    "    #@property\n",
    "    def params(self):\n",
    "        \n",
    "        \n",
    "        with open(self.logs[0],'r') as f:\n",
    "            data = json.load(f)\n",
    "        return data['parameters']\n",
    "    \n",
    "    @functools.cached_property\n",
    "    def delay(self):\n",
    "        d = []\n",
    "        for log in self.logs:\n",
    "            with open(log,'r') as f:\n",
    "                data = json.load(f)\n",
    "            ownship = data['state']\n",
    "            delay = ownship['update_delay']\n",
    "            if delay == 0.:\n",
    "                traffic = data['traffic']['tf1']\n",
    "                delay = traffic['time'][0] - ownship['time'][0]\n",
    "            d.append(delay)\n",
    "        \n",
    "        return d\n",
    "    @functools.cached_property\n",
    "    def max_sev_per_run(self):\n",
    "        dist_lowc_sev = self.dist_lowc_sev\n",
    "        \n",
    "        max_lowc_sev = []\n",
    "        for run in dist_lowc_sev:\n",
    "            sev = [d[2] for d in run.values()]\n",
    "            max_lowc_sev.append(max(sev))\n",
    "        return max_lowc_sev\n",
    "    @functools.cached_property\n",
    "    def lowc_duration(self):\n",
    "        dist_lowc_sev = self.dist_lowc_sev\n",
    "        \n",
    "        max_lowc_sev = []\n",
    "        for run in dist_lowc_sev:\n",
    "            sev = [d[2] for d in run.values()]\n",
    "            count = 0 \n",
    "            for s in sev:\n",
    "                if s > 0:\n",
    "                    count+=1\n",
    "            max_lowc_sev.append(count)\n",
    "        return count\n",
    "        \n",
    "    @functools.cached_property\n",
    "    #@property\n",
    "    def dist_lowc_sev(self):\n",
    "        h_thresh = self.get_thresh()\n",
    "        dist_lowc_sev = []\n",
    "        r = 0\n",
    "        for log in self.logs:\n",
    "            curr_dwc = {}\n",
    "            with open(log,'r') as f:\n",
    "                data = json.load(f)\n",
    "            \n",
    "            traffic = data['traffic']['tf1']\n",
    "            ownship = data['state']\n",
    "            \n",
    "            duration = 300 #sekonda\n",
    "            step = 1 # cdo 1 sekonda\n",
    "            tolerance = 0.5 # merr me te aferten ne dritare +- 0.5 sekonda\n",
    "        \n",
    "            resampled_ownship = Scenario.resample(ownship['time'],step,tolerance,duration)\n",
    "            resampled_traffic = Scenario.resample(traffic['time'],step,tolerance,duration)\n",
    "            \n",
    "            \n",
    "            for i in range(0, duration, step):\n",
    "                if resampled_ownship[i] != -1 and resampled_traffic[i] != -1:\n",
    "                    \n",
    "                    posNED = ownship['positionNED'][resampled_ownship[i]]\n",
    "                    tposNED = traffic['positionNED'][resampled_traffic[i]]\n",
    "                    \n",
    "                    dist = np.sqrt((posNED[0] - tposNED[0])**2 + (posNED[1] - tposNED[1])**2) \n",
    "            \n",
    "                    horiz_violation = (dist < h_thresh)\n",
    "                    \n",
    "                    #h.append(dist)\n",
    "\n",
    "                    if horiz_violation:\n",
    "                        lowc = 1\n",
    "                    else:\n",
    "                        lowc = 0\n",
    "                        \n",
    "                    sev = (h_thresh - dist) / h_thresh\n",
    "                    if sev < 0:\n",
    "                        sev = 0\n",
    "                    curr_dwc[i] = (dist, lowc,sev)\n",
    "            dist_lowc_sev.append(curr_dwc)\n",
    "            r +=1\n",
    "            \n",
    "            \n",
    "        \n",
    "        return dist_lowc_sev\n",
    "    \n",
    "    @functools.cached_property\n",
    "    #@property\n",
    "    def severity(self):\n",
    "        severity = []\n",
    "        dist_lowc = self.dist_lowc\n",
    "        h_thresh = self.get_thresh()\n",
    "        for run in dist_lowc:\n",
    "            print(run)\n",
    "            run_sev = {}\n",
    "            for time, d_lwc in run.items():\n",
    "                dist = d_lwc[0]\n",
    "                sev = (h_thresh - dist) / h_thresh\n",
    "                if sev < 0:\n",
    "                    sev = 0\n",
    "                run_sev[time] = sev\n",
    "            \n",
    "            severity.append(run_sev)\n",
    "        return severity\n",
    "        \n",
    "    @functools.cached_property\n",
    "    #@property\n",
    "    def mean_severity(self):\n",
    "        dist_lowc_sev = self.dist_lowc_sev\n",
    "        \n",
    "        #print(dist_lowc_sev)\n",
    "        mean_severity = {}\n",
    "        for i in range(0,300, 1):\n",
    "            values = []\n",
    "            for run in dist_lowc_sev:\n",
    "                if i in run.keys():\n",
    "                    values.append(run[i][2])\n",
    "                \n",
    "            if len(values) > 0:\n",
    "                mean_severity[i] = (sum(values) / len(values), len(values))\n",
    "        \n",
    "        \n",
    "        return mean_severity\n",
    "    \n",
    "    @functools.cached_property\n",
    "    def mean_dist(self):\n",
    "        dist_lowc_sev = self.dist_lowc_sev\n",
    "        mean_dist = {}\n",
    "        \n",
    "        for i in range(0,300, 1):\n",
    "            values = []\n",
    "            for run in dist_lowc_sev:\n",
    "                if i in run.keys():\n",
    "                    values.append(run[i][0])\n",
    "            if len(values) > 0:\n",
    "                \n",
    "                mean_dist[i] = (sum(values) / len(values), len(values))   \n",
    "            #mean_dist[i] = (sum(values) / len(values), len(values))\n",
    "            \n",
    "        return mean_dist\n",
    "    \n",
    "        \n",
    "        \n",
    "    \n",
    "    @functools.cached_property\n",
    "    def max_mean_severity(self):\n",
    "        mean_severity = self.mean_severity\n",
    "        sev = [d[0] for d in mean_severity.values()]\n",
    "        return max(sev)\n",
    "    \n",
    "    \n",
    "    def get_thresh(self):\n",
    "        return self.params['DET_1_WCV_DTHR']* 0.3048\n",
    "    @functools.cached_property\n",
    "    def t_lookahead(self):\n",
    "        return self.params['LOOKAHEAD_TIME']\n",
    "    @functools.cached_property\n",
    "    def t_alert(self):\n",
    "        return self.params['AL_1_ALERT_T']\n",
    "    @functools.cached_property\n",
    "    def turn_rate(self):\n",
    "        return self.params['TURN_RATE']\n",
    "    \n",
    "    def get_param(self, key):\n",
    "        if key in self.params.keys():\n",
    "            return self.params[key]\n",
    "        else:\n",
    "            return 'Nuk ke gje ktu'\n",
    "    \n",
    "    "
   ]
  },
  {
   "cell_type": "code",
   "execution_count": 3,
   "id": "296e378a-b199-489f-b716-42416b05e316",
   "metadata": {},
   "outputs": [],
   "source": [
    "def calcLossOfHorizontalSafetyDistance(ownship, traffic, h_THRESHOLD):\n",
    "        h = []\n",
    "        lowc = []\n",
    "        \n",
    "        resample_ownship = resample(ownship['time'],step, tolerance, duration)\n",
    "        resample_traffic = resample(traffic['time'], step, tolerance, duration)\n",
    "        \n",
    "        for i, tposNED in enumerate(traffic['positionNED']):\n",
    "            posNED = ownship[\"positionNED\"][i]\n",
    "            o_alt = posNED[2]\n",
    "            t_alt = tposNED[2]\n",
    "            \n",
    "            dist = np.sqrt((posNED[0] - tposNED[0])**2 + (posNED[1] - tposNED[1])**2) \n",
    "            \n",
    "            horiz_violation = (dist < h_THRESHOLD)\n",
    "            \n",
    "            h.append(dist)\n",
    "\n",
    "            if horiz_violation:\n",
    "                lowc.append(1)\n",
    "            else:\n",
    "                lowc.append(0)\n",
    "        \n",
    "        lowcNP = np.array(lowc)\n",
    "        hNP = np.array(h)\n",
    "        \n",
    "        return (lowcNP, hNP)\n",
    "    \n",
    "def findRangeOfOnes(zeroOneNPArray):\n",
    "    idx = np.where(zeroOneNPArray==1)[0]\n",
    "    \n",
    "    if len(idx) > 0:\n",
    "        return [idx[0], idx[-1]]\n",
    "    else:\n",
    "        return [-1, -1]\n",
    "\n",
    "def regainSafetyDistance(zeroOneNPArray):\n",
    "    return np.any(np.diff(zeroOneNPArray) == -1)\n",
    "    #zeroOneNPArray_idx = findRangeOfOnes(zeroOneNPArray)\n",
    "    #return -1 < zeroOneNPArray_idx[1] and zeroOneNPArray_idx[0] < len(zeroOneNPArray)-1\n",
    "\n",
    "def calculate_time(zeroOneNPArray):\n",
    "    return sum(zeroOneNPArray) * samplingRate\n",
    "\n",
    "def calcSeverity(h_dist, h_THRESHOLD):\n",
    "    h_severity = (h_THRESHOLD - h_dist) / h_THRESHOLD\n",
    "    h_severity[h_severity < 0] = 0\n",
    "    return h_severity\n"
   ]
  },
  {
   "cell_type": "code",
   "execution_count": 4,
   "id": "eee58519-1ae6-40f3-b4eb-6f7a1694d106",
   "metadata": {},
   "outputs": [],
   "source": [
    "with open(\"final_results.dat\",\"rb\") as f:\n",
    "    scenarios = pickle.load(f)"
   ]
  },
  {
   "cell_type": "code",
   "execution_count": 5,
   "id": "42060c18-7d77-48c7-b432-31b089724874",
   "metadata": {
    "tags": []
   },
   "outputs": [],
   "source": [
    "St5tr90h0_mean_max = []\n",
    "St6tr90h0_mean_max = []\n",
    "St7tr90h0_mean_max = []\n",
    "\n",
    "Stt1tr60h0_mean_max = []\n",
    "Stt2tr60h0_mean_max = []\n",
    "Stt3tr60h0_mean_max = []\n",
    "\n",
    "St6tr45h0_mean_max = []\n",
    "St7tr45h0_mean_max = []\n",
    "St8tr45h0_mean_max = []\n",
    "\n",
    "St7tr30h0_mean_max = []\n",
    "St8tr30h0_mean_max = []\n",
    "St9tr30h0_mean_max = []\n",
    "others = []\n",
    "\n",
    "for scenario in scenarios:\n",
    "    \n",
    "    values = []\n",
    "    for run in scenario.dist_lowc_sev:\n",
    "        maksimum = max([v[2] for v in run.values()])\n",
    "        values.append(maksimum)\n",
    "    if \"St5tr90h0\" in scenario.name: \n",
    "        St5tr90h0_mean_max.append(np.mean(values))\n",
    "    elif \"St6tr90h0\" in scenario.name: \n",
    "        St6tr90h0_mean_max.append(np.mean(values))\n",
    "    elif \"St7tr90h0\" in scenario.name:\n",
    "        St7tr90h0_mean_max.append(np.mean(values))\n",
    "    elif \"St5.5tr60h0\" in scenario.name:\n",
    "        Stt1tr60h0_mean_max.append(np.mean(values))\n",
    "    elif \"St6.5tr60h0\"in scenario.name: \n",
    "        Stt2tr60h0_mean_max.append(np.mean(values))\n",
    "    elif \"St7.5tr60h0\" in scenario.name: \n",
    "        Stt3tr60h0_mean_max.append(np.mean(values))\n",
    "    elif \"St6tr45h0\" in scenario.name:\n",
    "        St6tr45h0_mean_max.append(np.mean(values))\n",
    "    elif \"St7tr45h0\" in scenario.name:\n",
    "        St7tr45h0_mean_max.append(np.mean(values))\n",
    "    elif \"St8tr45h0\" in scenario.name:\n",
    "        St8tr45h0_mean_max.append(np.mean(values))\n",
    "    elif \"St7tr30h0\" in scenario.name:\n",
    "        St7tr30h0_mean_max.append(np.mean(values))\n",
    "    elif \"St8tr30h0\" in scenario.name:\n",
    "        St8tr30h0_mean_max.append(np.mean(values))\n",
    "    elif \"St9tr30h0\" in scenario.name:\n",
    "        St9tr30h0_mean_max.append(np.mean(values))\n",
    "    else:\n",
    "        others.append(np.mean(values))\n",
    "        \n",
    "       "
   ]
  },
  {
   "cell_type": "code",
   "execution_count": null,
   "id": "030d809a-6e60-471d-b580-64bdef9a8751",
   "metadata": {},
   "outputs": [],
   "source": [
    "import plotly.graph_objects as go\n",
    "#t2=['$t_2=1s$', '$t_2=2s$', '$t_2=3s$']\n",
    "#s= [np.mean(St5tr90h0_mean_max),np.mean(St6tr90h0_mean_max),np.mean(St7tr90h0_mean_max)]\n",
    "#p = [np.mean(Stt1tr60h0_mean_max),np.mean(Stt2tr60h0_mean_max),np.mean(Stt3tr60h0_mean_max)]\n",
    "\n",
    "t2=['90 deg/s', '60 deg/s']\n",
    "s= [np.mean(St5tr90h0_mean_max),np.mean(Stt1tr60h0_mean_max)]\n",
    "p= [np.mean(St6tr90h0_mean_max),np.mean(Stt2tr60h0_mean_max)]\n",
    "l = [np.mean(St7tr90h0_mean_max),np.mean(Stt3tr60h0_mean_max) ] \n",
    "fig = go.Figure(data=[\n",
    "    go.Bar(name=r'$t_2 = 1s$', x=t2, y=s, marker={'color':'#cd1010'}),\n",
    "    go.Bar(name=r'$t_2 = 2s$', x=t2, y=p,marker={'color':'#ea7114'}),\n",
    "    go.Bar(name=r'$t_3 = 1s$', x=t2, y=l,marker={'color':'#ffa600'})\n",
    "])\n",
    "\n",
    "layout = go.Layout(\n",
    "  margin=go.layout.Margin(\n",
    "        l=0, #left margin\n",
    "        r=0, #right margin\n",
    "        b=0, #bottom margin\n",
    "        t=0  #top margin\n",
    "    )\n",
    ")\n",
    "\n",
    "# Change the bar mode\n",
    "fig.update_layout(barmode='group', bargap=0.3,bargroupgap=0.01, margin=go.layout.Margin(\n",
    "        l=0, #left margin\n",
    "        r=0, #right margin\n",
    "        b=0, #bottom margin\n",
    "        t=0  #top margin\n",
    "    ),\n",
    "    xaxis_tickfont_size=14,\n",
    "    yaxis_tickfont_size=14,\n",
    "    #title=\"Average Maximum Severity wrt Warning Alert Level\", title_x=0.45, \n",
    "    #xaxis_title=\"Time (s)\",\n",
    "    yaxis_title=\"Severity\",\n",
    "    legend_title=\"Time (s)\",\n",
    "    font=dict(\n",
    "        family=\"Roboto Mono\",\n",
    "        size=14,\n",
    "        color=\"Black\"\n",
    "    )\n",
    ")\n",
    "\n",
    "py.iplot(fig, filename='latex')\n",
    "#fig.write_image(\"images/high_tr.pdf\")\n",
    "#fig.show()"
   ]
  },
  {
   "cell_type": "code",
   "execution_count": 34,
   "id": "fb0e1732-7a6a-4d19-820c-3eafb122ba56",
   "metadata": {},
   "outputs": [
    {
     "ename": "ImportError",
     "evalue": "\nThe plotly.plotly module is deprecated,\nplease install the chart-studio package and use the\nchart_studio.plotly module instead. \n",
     "output_type": "error",
     "traceback": [
      "\u001b[1;31m---------------------------------------------------------------------------\u001b[0m",
      "\u001b[1;31mImportError\u001b[0m                               Traceback (most recent call last)",
      "\u001b[1;32m<ipython-input-34-c4088553fe8a>\u001b[0m in \u001b[0;36m<module>\u001b[1;34m\u001b[0m\n\u001b[0;32m      1\u001b[0m \u001b[1;32mimport\u001b[0m \u001b[0mplotly\u001b[0m\u001b[1;33m.\u001b[0m\u001b[0mgraph_objects\u001b[0m \u001b[1;32mas\u001b[0m \u001b[0mgo\u001b[0m\u001b[1;33m\u001b[0m\u001b[1;33m\u001b[0m\u001b[0m\n\u001b[1;32m----> 2\u001b[1;33m \u001b[1;32mimport\u001b[0m \u001b[0mplotly\u001b[0m\u001b[1;33m.\u001b[0m\u001b[0mplotly\u001b[0m \u001b[1;32mas\u001b[0m \u001b[0mpy\u001b[0m\u001b[1;33m\u001b[0m\u001b[1;33m\u001b[0m\u001b[0m\n\u001b[0m\u001b[0;32m      3\u001b[0m \u001b[1;31m#t2=['$t_2=1s$', '$t_2=2s$', '$t_2=3s$']\u001b[0m\u001b[1;33m\u001b[0m\u001b[1;33m\u001b[0m\u001b[1;33m\u001b[0m\u001b[0m\n\u001b[0;32m      4\u001b[0m \u001b[1;31m#q= [np.mean(St6tr45h0_mean_max),np.mean(St7tr45h0_mean_max),np.mean(St8tr45h0_mean_max)]\u001b[0m\u001b[1;33m\u001b[0m\u001b[1;33m\u001b[0m\u001b[1;33m\u001b[0m\u001b[0m\n\u001b[0;32m      5\u001b[0m \u001b[1;31m#r= [np.mean(St7tr30h0_mean_max),np.mean(St8tr30h0_mean_max),np.mean(St9tr30h0_mean_max)]\u001b[0m\u001b[1;33m\u001b[0m\u001b[1;33m\u001b[0m\u001b[1;33m\u001b[0m\u001b[0m\n",
      "\u001b[1;32m~\\anaconda3\\lib\\site-packages\\plotly\\plotly\\__init__.py\u001b[0m in \u001b[0;36m<module>\u001b[1;34m\u001b[0m\n\u001b[0;32m      2\u001b[0m \u001b[1;32mfrom\u001b[0m \u001b[0m_plotly_future_\u001b[0m \u001b[1;32mimport\u001b[0m \u001b[0m_chart_studio_error\u001b[0m\u001b[1;33m\u001b[0m\u001b[1;33m\u001b[0m\u001b[0m\n\u001b[0;32m      3\u001b[0m \u001b[1;33m\u001b[0m\u001b[0m\n\u001b[1;32m----> 4\u001b[1;33m \u001b[0m_chart_studio_error\u001b[0m\u001b[1;33m(\u001b[0m\u001b[1;34m\"plotly\"\u001b[0m\u001b[1;33m)\u001b[0m\u001b[1;33m\u001b[0m\u001b[1;33m\u001b[0m\u001b[0m\n\u001b[0m",
      "\u001b[1;32m~\\anaconda3\\lib\\site-packages\\_plotly_future_\\__init__.py\u001b[0m in \u001b[0;36m_chart_studio_error\u001b[1;34m(submodule)\u001b[0m\n\u001b[0;32m     41\u001b[0m \u001b[1;33m\u001b[0m\u001b[0m\n\u001b[0;32m     42\u001b[0m \u001b[1;32mdef\u001b[0m \u001b[0m_chart_studio_error\u001b[0m\u001b[1;33m(\u001b[0m\u001b[0msubmodule\u001b[0m\u001b[1;33m)\u001b[0m\u001b[1;33m:\u001b[0m\u001b[1;33m\u001b[0m\u001b[1;33m\u001b[0m\u001b[0m\n\u001b[1;32m---> 43\u001b[1;33m     raise ImportError(\n\u001b[0m\u001b[0;32m     44\u001b[0m         \"\"\"\n\u001b[0;32m     45\u001b[0m \u001b[0mThe\u001b[0m \u001b[0mplotly\u001b[0m\u001b[1;33m.\u001b[0m\u001b[1;33m{\u001b[0m\u001b[0msubmodule\u001b[0m\u001b[1;33m}\u001b[0m \u001b[0mmodule\u001b[0m \u001b[1;32mis\u001b[0m \u001b[0mdeprecated\u001b[0m\u001b[1;33m,\u001b[0m\u001b[1;33m\u001b[0m\u001b[1;33m\u001b[0m\u001b[0m\n",
      "\u001b[1;31mImportError\u001b[0m: \nThe plotly.plotly module is deprecated,\nplease install the chart-studio package and use the\nchart_studio.plotly module instead. \n"
     ]
    }
   ],
   "source": [
    "import plotly.graph_objects as go\n",
    "#t2=['$t_2=1s$', '$t_2=2s$', '$t_2=3s$']\n",
    "#q= [np.mean(St6tr45h0_mean_max),np.mean(St7tr45h0_mean_max),np.mean(St8tr45h0_mean_max)]\n",
    "#r= [np.mean(St7tr30h0_mean_max),np.mean(St8tr30h0_mean_max),np.mean(St9tr30h0_mean_max)]\n",
    "\n",
    "t2=['45 deg/s', '30 deg/s']\n",
    "q= [np.mean(St6tr45h0_mean_max),np.mean(St7tr30h0_mean_max)]\n",
    "r= [np.mean(St7tr45h0_mean_max),np.mean(St8tr30h0_mean_max)]\n",
    "t = [np.mean(St8tr45h0_mean_max),np.mean(St9tr30h0_mean_max) ] \n",
    "fig = go.Figure(data=[\n",
    "    go.Bar(name=\"1s\", x=t2, y=q, marker={'color':'#cd1010'}),\n",
    "    go.Bar(name='2s', x=t2, y=r,marker={'color':'#dd4405'}),\n",
    "    go.Bar(name='3s', x=t2, y=t,marker={'color':'#ea6700'})\n",
    "])\n",
    "# Change the bar mode\n",
    "fig.update_layout(barmode='group', bargap=0.1, bargroupgap=0.005,margin=go.layout.Margin(\n",
    "        l=0, #left margin\n",
    "        r=0, #right margin\n",
    "        b=0, #bottom margin\n",
    "        t=0  #top margin\n",
    "    ),\n",
    "    #title=\"Average Maximum Severity wrt Warning Alert Level\", title_x=0.45, \n",
    "    #xaxis_title=\"Time (s)\",\n",
    "    yaxis_title=\"Severity\",\n",
    "    legend_title=\" $t_2$ - values (sec)$\",\n",
    "    font=dict(\n",
    "        family=\"Helvetica\",\n",
    "        size=10,\n",
    "        color=\"Black\"\n",
    "    )\n",
    ")\n",
    "\n",
    "fig.write_image(\"images/low_tr.pdf\")\n",
    "fig.show()"
   ]
  },
  {
   "cell_type": "code",
   "execution_count": 10,
   "id": "d4d3491a-b4b4-4a0e-8ca5-dcc87557c1c0",
   "metadata": {},
   "outputs": [],
   "source": [
    "St5tr90h0_mean = []\n",
    "St6tr90h0_mean = []\n",
    "St7tr90h0_mean = []\n",
    "\n",
    "Stt1tr60h0_mean = []\n",
    "Stt2tr60h0_mean = []\n",
    "Stt3tr60h0_mean = []\n",
    "\n",
    "St6tr45h0_mean = []\n",
    "St7tr45h0_mean = []\n",
    "St8tr45h0_mean = []\n",
    "\n",
    "St7tr30h0_mean = []\n",
    "St8tr30h0_mean = []\n",
    "St9tr30h0_mean = []\n",
    "\n",
    "St5vtr90h0_mean = []\n",
    "St6vtr90h0_mean = []\n",
    "St7vtr90h0_mean = []\n",
    "\n",
    "Stt1vtr60h0_mean = []\n",
    "Stt2vtr60h0_mean = []\n",
    "Stt3vtr60h0_mean = []\n",
    "\n",
    "St6vtr45h0_mean = []\n",
    "St7vtr45h0_mean = []\n",
    "St8vtr45h0_mean = []\n",
    "\n",
    "St7vtr30h0_mean = []\n",
    "St8vtr30h0_mean = []\n",
    "St9vtr30h0_mean = []\n",
    "others = []\n",
    "\n",
    "for scenario in scenarios:\n",
    "    lowc=[]\n",
    "    if \"St5tr90h0v20vi15\" in scenario.name:\n",
    "        lowc.append(scenario.lowc_duration)\n",
    "        St5tr90h0_mean.append(np.mean(lowc))\n",
    "    elif \"St6tr90h0v20vi15\" in scenario.name: \n",
    "        lowc.append(scenario.lowc_duration)\n",
    "        St6tr90h0_mean.append(np.mean(lowc))\n",
    "    elif \"St7tr90h0v20vi15\" in scenario.name: \n",
    "        lowc.append(scenario.lowc_duration)\n",
    "        St7tr90h0_mean.append(np.mean(lowc))\n",
    "        \n",
    "    elif \"St5.5tr60h0v20vi15\" in scenario.name: \n",
    "        lowc.append(scenario.lowc_duration)\n",
    "        Stt1tr60h0_mean.append(np.mean(lowc))\n",
    "    elif \"St6.5tr60h0v20vi15\" in scenario.name: \n",
    "        lowc.append(scenario.lowc_duration)\n",
    "        Stt2tr60h0_mean.append(np.mean(lowc))\n",
    "    elif \"St7.5tr60h0v20vi15\" in scenario.name: \n",
    "        lowc.append(scenario.lowc_duration)\n",
    "        Stt3tr60h0_mean.append(np.mean(lowc))\n",
    "        \n",
    "    elif \"St6tr45h0v20vi15\" in scenario.name: \n",
    "        lowc.append(scenario.lowc_duration)\n",
    "        St6tr45h0_mean.append(np.mean(lowc))\n",
    "    elif \"St7tr45h0v20vi15\" in scenario.name: \n",
    "        lowc.append(scenario.lowc_duration)\n",
    "        St7tr45h0_mean.append(np.mean(lowc))\n",
    "    elif \"St8tr45h0v20vi15\" in scenario.name: \n",
    "        lowc.append(scenario.lowc_duration)\n",
    "        St8tr45h0_mean.append(np.mean(lowc))\n",
    "        \n",
    "    elif \"St7tr30h0v20vi15\" in scenario.name: \n",
    "        lowc.append(scenario.lowc_duration)\n",
    "        St7tr30h0_mean.append(np.mean(lowc))\n",
    "    elif \"St8tr30h0v20vi15\" in scenario.name: \n",
    "        lowc.append(scenario.lowc_duration)\n",
    "        St8tr30h0_mean.append(np.mean(lowc))\n",
    "    elif \"St9tr30h0v20vi15\" in scenario.name: \n",
    "        lowc.append(scenario.lowc_duration)\n",
    "        St9tr30h0_mean.append(np.mean(lowc))\n",
    "    \n",
    "    if \"St5tr90h0v10vi15\" in scenario.name:\n",
    "        lowc.append(scenario.lowc_duration)\n",
    "        St5vtr90h0_mean.append(np.mean(lowc))\n",
    "    elif \"St6tr90h0v10vi15\" in scenario.name: \n",
    "        lowc.append(scenario.lowc_duration)\n",
    "        St6vtr90h0_mean.append(np.mean(lowc))\n",
    "    elif \"St7tr90h0v10vi15\" in scenario.name: \n",
    "        lowc.append(scenario.lowc_duration)\n",
    "        St7vtr90h0_mean.append(np.mean(lowc))\n",
    "        \n",
    "    elif \"St5.5tr60h0v10vi15\" in scenario.name: \n",
    "        lowc.append(scenario.lowc_duration)\n",
    "        Stt1vtr60h0_mean.append(np.mean(lowc))\n",
    "    elif \"St6.5tr60h0v10vi15\" in scenario.name: \n",
    "        lowc.append(scenario.lowc_duration)\n",
    "        Stt2vtr60h0_mean.append(np.mean(lowc))\n",
    "    elif \"St7.5tr60h0v10vi15\" in scenario.name: \n",
    "        lowc.append(scenario.lowc_duration)\n",
    "        Stt3vtr60h0_mean.append(np.mean(lowc))\n",
    "        \n",
    "    elif \"St6tr45h0v10vi15\" in scenario.name: \n",
    "        lowc.append(scenario.lowc_duration)\n",
    "        St6vtr45h0_mean.append(np.mean(lowc))\n",
    "    elif \"St7tr45h0v10vi15\" in scenario.name: \n",
    "        lowc.append(scenario.lowc_duration)\n",
    "        St7vtr45h0_mean.append(np.mean(lowc))\n",
    "    elif \"St8tr45h0v10vi15\" in scenario.name: \n",
    "        lowc.append(scenario.lowc_duration)\n",
    "        St8vtr45h0_mean.append(np.mean(lowc))\n",
    "        \n",
    "    elif \"St7tr30h0v10vi15\" in scenario.name: \n",
    "        lowc.append(scenario.lowc_duration)\n",
    "        St7vtr30h0_mean.append(np.mean(lowc))\n",
    "    elif \"St8tr30h0v10vi15\" in scenario.name: \n",
    "        lowc.append(scenario.lowc_duration)\n",
    "        St8vtr30h0_mean.append(np.mean(lowc))\n",
    "    elif \"St9tr30h0v10vi15\" in scenario.name: \n",
    "        lowc.append(scenario.lowc_duration)\n",
    "        St9vtr30h0_mean.append(np.mean(lowc))\n",
    "           \n",
    "    else:\n",
    "        continue"
   ]
  },
  {
   "cell_type": "code",
   "execution_count": 11,
   "id": "8abd6ee4-c25a-4681-9a2c-79362b89dcf5",
   "metadata": {},
   "outputs": [
    {
     "data": {
      "application/vnd.plotly.v1+json": {
       "config": {
        "plotlyServerURL": "https://plot.ly"
       },
       "data": [
        {
         "name": "90 deg/s - 20 m/s",
         "type": "bar",
         "x": [
          "$t_2=1s$",
          "$t_2=2s$",
          "$t_2=3s$"
         ],
         "y": [
          3.6325,
          3.0925,
          3.105
         ]
        },
        {
         "name": "60 deg/s - 20 m/s",
         "type": "bar",
         "x": [
          "$t_2=1s$",
          "$t_2=2s$",
          "$t_2=3s$"
         ],
         "y": [
          3.33,
          3.015,
          3.0625
         ]
        },
        {
         "name": "45 deg/s - 20 m/s",
         "type": "bar",
         "x": [
          "$t_2=1s$",
          "$t_2=2s$",
          "$t_2=3s$"
         ],
         "y": [
          2.955,
          2.885,
          3.125
         ]
        },
        {
         "name": "30 deg/s - 20 m/s",
         "type": "bar",
         "x": [
          "$t_2=1s$",
          "$t_2=2s$",
          "$t_2=3s$"
         ],
         "y": [
          3.0475,
          3.8625,
          3.505
         ]
        },
        {
         "name": "90 deg/s - 10 m/s",
         "type": "bar",
         "x": [
          "$t_2=1s$",
          "$t_2=2s$",
          "$t_2=3s$"
         ],
         "y": [
          3.4825,
          3.705,
          3.555
         ]
        },
        {
         "name": "60 deg/s - 10 m/s",
         "type": "bar",
         "x": [
          "$t_2=1s$",
          "$t_2=2s$",
          "$t_2=3s$"
         ],
         "y": [
          3.55,
          3.5625,
          3.415
         ]
        },
        {
         "name": "45 deg/s - 10 m/s",
         "type": "bar",
         "x": [
          "$t_2=1s$",
          "$t_2=2s$",
          "$t_2=3s$"
         ],
         "y": [
          3.4425,
          3.585,
          3.4175
         ]
        },
        {
         "name": "30 deg/s - 10 m/s",
         "type": "bar",
         "x": [
          "$t_2=1s$",
          "$t_2=2s$",
          "$t_2=3s$"
         ],
         "y": [
          4.1425,
          3.7125,
          2.94
         ]
        }
       ],
       "layout": {
        "annotations": [
         {
          "showarrow": false,
          "text": "minimum maneuvering time",
          "x": 0,
          "xanchor": "left",
          "xref": "x domain",
          "y": 5,
          "yanchor": "bottom",
          "yref": "y"
         }
        ],
        "autosize": true,
        "barmode": "group",
        "font": {
         "color": "Black",
         "family": "Helvetica",
         "size": 10
        },
        "legend": {
         "title": {
          "text": "sUAS TR (deg/s) and GS (m/s)"
         }
        },
        "margin": {
         "b": 0,
         "l": 0,
         "r": 0,
         "t": 0
        },
        "shapes": [
         {
          "line": {
           "color": "red",
           "dash": "dash",
           "width": 3
          },
          "type": "line",
          "x0": 0,
          "x1": 1,
          "xref": "x domain",
          "y0": 5,
          "y1": 5,
          "yref": "y"
         }
        ],
        "template": {
         "data": {
          "bar": [
           {
            "error_x": {
             "color": "#2a3f5f"
            },
            "error_y": {
             "color": "#2a3f5f"
            },
            "marker": {
             "line": {
              "color": "#E5ECF6",
              "width": 0.5
             },
             "pattern": {
              "fillmode": "overlay",
              "size": 10,
              "solidity": 0.2
             }
            },
            "type": "bar"
           }
          ],
          "barpolar": [
           {
            "marker": {
             "line": {
              "color": "#E5ECF6",
              "width": 0.5
             },
             "pattern": {
              "fillmode": "overlay",
              "size": 10,
              "solidity": 0.2
             }
            },
            "type": "barpolar"
           }
          ],
          "carpet": [
           {
            "aaxis": {
             "endlinecolor": "#2a3f5f",
             "gridcolor": "white",
             "linecolor": "white",
             "minorgridcolor": "white",
             "startlinecolor": "#2a3f5f"
            },
            "baxis": {
             "endlinecolor": "#2a3f5f",
             "gridcolor": "white",
             "linecolor": "white",
             "minorgridcolor": "white",
             "startlinecolor": "#2a3f5f"
            },
            "type": "carpet"
           }
          ],
          "choropleth": [
           {
            "colorbar": {
             "outlinewidth": 0,
             "ticks": ""
            },
            "type": "choropleth"
           }
          ],
          "contour": [
           {
            "colorbar": {
             "outlinewidth": 0,
             "ticks": ""
            },
            "colorscale": [
             [
              0,
              "#0d0887"
             ],
             [
              0.1111111111111111,
              "#46039f"
             ],
             [
              0.2222222222222222,
              "#7201a8"
             ],
             [
              0.3333333333333333,
              "#9c179e"
             ],
             [
              0.4444444444444444,
              "#bd3786"
             ],
             [
              0.5555555555555556,
              "#d8576b"
             ],
             [
              0.6666666666666666,
              "#ed7953"
             ],
             [
              0.7777777777777778,
              "#fb9f3a"
             ],
             [
              0.8888888888888888,
              "#fdca26"
             ],
             [
              1,
              "#f0f921"
             ]
            ],
            "type": "contour"
           }
          ],
          "contourcarpet": [
           {
            "colorbar": {
             "outlinewidth": 0,
             "ticks": ""
            },
            "type": "contourcarpet"
           }
          ],
          "heatmap": [
           {
            "colorbar": {
             "outlinewidth": 0,
             "ticks": ""
            },
            "colorscale": [
             [
              0,
              "#0d0887"
             ],
             [
              0.1111111111111111,
              "#46039f"
             ],
             [
              0.2222222222222222,
              "#7201a8"
             ],
             [
              0.3333333333333333,
              "#9c179e"
             ],
             [
              0.4444444444444444,
              "#bd3786"
             ],
             [
              0.5555555555555556,
              "#d8576b"
             ],
             [
              0.6666666666666666,
              "#ed7953"
             ],
             [
              0.7777777777777778,
              "#fb9f3a"
             ],
             [
              0.8888888888888888,
              "#fdca26"
             ],
             [
              1,
              "#f0f921"
             ]
            ],
            "type": "heatmap"
           }
          ],
          "heatmapgl": [
           {
            "colorbar": {
             "outlinewidth": 0,
             "ticks": ""
            },
            "colorscale": [
             [
              0,
              "#0d0887"
             ],
             [
              0.1111111111111111,
              "#46039f"
             ],
             [
              0.2222222222222222,
              "#7201a8"
             ],
             [
              0.3333333333333333,
              "#9c179e"
             ],
             [
              0.4444444444444444,
              "#bd3786"
             ],
             [
              0.5555555555555556,
              "#d8576b"
             ],
             [
              0.6666666666666666,
              "#ed7953"
             ],
             [
              0.7777777777777778,
              "#fb9f3a"
             ],
             [
              0.8888888888888888,
              "#fdca26"
             ],
             [
              1,
              "#f0f921"
             ]
            ],
            "type": "heatmapgl"
           }
          ],
          "histogram": [
           {
            "marker": {
             "pattern": {
              "fillmode": "overlay",
              "size": 10,
              "solidity": 0.2
             }
            },
            "type": "histogram"
           }
          ],
          "histogram2d": [
           {
            "colorbar": {
             "outlinewidth": 0,
             "ticks": ""
            },
            "colorscale": [
             [
              0,
              "#0d0887"
             ],
             [
              0.1111111111111111,
              "#46039f"
             ],
             [
              0.2222222222222222,
              "#7201a8"
             ],
             [
              0.3333333333333333,
              "#9c179e"
             ],
             [
              0.4444444444444444,
              "#bd3786"
             ],
             [
              0.5555555555555556,
              "#d8576b"
             ],
             [
              0.6666666666666666,
              "#ed7953"
             ],
             [
              0.7777777777777778,
              "#fb9f3a"
             ],
             [
              0.8888888888888888,
              "#fdca26"
             ],
             [
              1,
              "#f0f921"
             ]
            ],
            "type": "histogram2d"
           }
          ],
          "histogram2dcontour": [
           {
            "colorbar": {
             "outlinewidth": 0,
             "ticks": ""
            },
            "colorscale": [
             [
              0,
              "#0d0887"
             ],
             [
              0.1111111111111111,
              "#46039f"
             ],
             [
              0.2222222222222222,
              "#7201a8"
             ],
             [
              0.3333333333333333,
              "#9c179e"
             ],
             [
              0.4444444444444444,
              "#bd3786"
             ],
             [
              0.5555555555555556,
              "#d8576b"
             ],
             [
              0.6666666666666666,
              "#ed7953"
             ],
             [
              0.7777777777777778,
              "#fb9f3a"
             ],
             [
              0.8888888888888888,
              "#fdca26"
             ],
             [
              1,
              "#f0f921"
             ]
            ],
            "type": "histogram2dcontour"
           }
          ],
          "mesh3d": [
           {
            "colorbar": {
             "outlinewidth": 0,
             "ticks": ""
            },
            "type": "mesh3d"
           }
          ],
          "parcoords": [
           {
            "line": {
             "colorbar": {
              "outlinewidth": 0,
              "ticks": ""
             }
            },
            "type": "parcoords"
           }
          ],
          "pie": [
           {
            "automargin": true,
            "type": "pie"
           }
          ],
          "scatter": [
           {
            "marker": {
             "colorbar": {
              "outlinewidth": 0,
              "ticks": ""
             }
            },
            "type": "scatter"
           }
          ],
          "scatter3d": [
           {
            "line": {
             "colorbar": {
              "outlinewidth": 0,
              "ticks": ""
             }
            },
            "marker": {
             "colorbar": {
              "outlinewidth": 0,
              "ticks": ""
             }
            },
            "type": "scatter3d"
           }
          ],
          "scattercarpet": [
           {
            "marker": {
             "colorbar": {
              "outlinewidth": 0,
              "ticks": ""
             }
            },
            "type": "scattercarpet"
           }
          ],
          "scattergeo": [
           {
            "marker": {
             "colorbar": {
              "outlinewidth": 0,
              "ticks": ""
             }
            },
            "type": "scattergeo"
           }
          ],
          "scattergl": [
           {
            "marker": {
             "colorbar": {
              "outlinewidth": 0,
              "ticks": ""
             }
            },
            "type": "scattergl"
           }
          ],
          "scattermapbox": [
           {
            "marker": {
             "colorbar": {
              "outlinewidth": 0,
              "ticks": ""
             }
            },
            "type": "scattermapbox"
           }
          ],
          "scatterpolar": [
           {
            "marker": {
             "colorbar": {
              "outlinewidth": 0,
              "ticks": ""
             }
            },
            "type": "scatterpolar"
           }
          ],
          "scatterpolargl": [
           {
            "marker": {
             "colorbar": {
              "outlinewidth": 0,
              "ticks": ""
             }
            },
            "type": "scatterpolargl"
           }
          ],
          "scatterternary": [
           {
            "marker": {
             "colorbar": {
              "outlinewidth": 0,
              "ticks": ""
             }
            },
            "type": "scatterternary"
           }
          ],
          "surface": [
           {
            "colorbar": {
             "outlinewidth": 0,
             "ticks": ""
            },
            "colorscale": [
             [
              0,
              "#0d0887"
             ],
             [
              0.1111111111111111,
              "#46039f"
             ],
             [
              0.2222222222222222,
              "#7201a8"
             ],
             [
              0.3333333333333333,
              "#9c179e"
             ],
             [
              0.4444444444444444,
              "#bd3786"
             ],
             [
              0.5555555555555556,
              "#d8576b"
             ],
             [
              0.6666666666666666,
              "#ed7953"
             ],
             [
              0.7777777777777778,
              "#fb9f3a"
             ],
             [
              0.8888888888888888,
              "#fdca26"
             ],
             [
              1,
              "#f0f921"
             ]
            ],
            "type": "surface"
           }
          ],
          "table": [
           {
            "cells": {
             "fill": {
              "color": "#EBF0F8"
             },
             "line": {
              "color": "white"
             }
            },
            "header": {
             "fill": {
              "color": "#C8D4E3"
             },
             "line": {
              "color": "white"
             }
            },
            "type": "table"
           }
          ]
         },
         "layout": {
          "annotationdefaults": {
           "arrowcolor": "#2a3f5f",
           "arrowhead": 0,
           "arrowwidth": 1
          },
          "autotypenumbers": "strict",
          "coloraxis": {
           "colorbar": {
            "outlinewidth": 0,
            "ticks": ""
           }
          },
          "colorscale": {
           "diverging": [
            [
             0,
             "#8e0152"
            ],
            [
             0.1,
             "#c51b7d"
            ],
            [
             0.2,
             "#de77ae"
            ],
            [
             0.3,
             "#f1b6da"
            ],
            [
             0.4,
             "#fde0ef"
            ],
            [
             0.5,
             "#f7f7f7"
            ],
            [
             0.6,
             "#e6f5d0"
            ],
            [
             0.7,
             "#b8e186"
            ],
            [
             0.8,
             "#7fbc41"
            ],
            [
             0.9,
             "#4d9221"
            ],
            [
             1,
             "#276419"
            ]
           ],
           "sequential": [
            [
             0,
             "#0d0887"
            ],
            [
             0.1111111111111111,
             "#46039f"
            ],
            [
             0.2222222222222222,
             "#7201a8"
            ],
            [
             0.3333333333333333,
             "#9c179e"
            ],
            [
             0.4444444444444444,
             "#bd3786"
            ],
            [
             0.5555555555555556,
             "#d8576b"
            ],
            [
             0.6666666666666666,
             "#ed7953"
            ],
            [
             0.7777777777777778,
             "#fb9f3a"
            ],
            [
             0.8888888888888888,
             "#fdca26"
            ],
            [
             1,
             "#f0f921"
            ]
           ],
           "sequentialminus": [
            [
             0,
             "#0d0887"
            ],
            [
             0.1111111111111111,
             "#46039f"
            ],
            [
             0.2222222222222222,
             "#7201a8"
            ],
            [
             0.3333333333333333,
             "#9c179e"
            ],
            [
             0.4444444444444444,
             "#bd3786"
            ],
            [
             0.5555555555555556,
             "#d8576b"
            ],
            [
             0.6666666666666666,
             "#ed7953"
            ],
            [
             0.7777777777777778,
             "#fb9f3a"
            ],
            [
             0.8888888888888888,
             "#fdca26"
            ],
            [
             1,
             "#f0f921"
            ]
           ]
          },
          "colorway": [
           "#636efa",
           "#EF553B",
           "#00cc96",
           "#ab63fa",
           "#FFA15A",
           "#19d3f3",
           "#FF6692",
           "#B6E880",
           "#FF97FF",
           "#FECB52"
          ],
          "font": {
           "color": "#2a3f5f"
          },
          "geo": {
           "bgcolor": "white",
           "lakecolor": "white",
           "landcolor": "#E5ECF6",
           "showlakes": true,
           "showland": true,
           "subunitcolor": "white"
          },
          "hoverlabel": {
           "align": "left"
          },
          "hovermode": "closest",
          "mapbox": {
           "style": "light"
          },
          "paper_bgcolor": "white",
          "plot_bgcolor": "#E5ECF6",
          "polar": {
           "angularaxis": {
            "gridcolor": "white",
            "linecolor": "white",
            "ticks": ""
           },
           "bgcolor": "#E5ECF6",
           "radialaxis": {
            "gridcolor": "white",
            "linecolor": "white",
            "ticks": ""
           }
          },
          "scene": {
           "xaxis": {
            "backgroundcolor": "#E5ECF6",
            "gridcolor": "white",
            "gridwidth": 2,
            "linecolor": "white",
            "showbackground": true,
            "ticks": "",
            "zerolinecolor": "white"
           },
           "yaxis": {
            "backgroundcolor": "#E5ECF6",
            "gridcolor": "white",
            "gridwidth": 2,
            "linecolor": "white",
            "showbackground": true,
            "ticks": "",
            "zerolinecolor": "white"
           },
           "zaxis": {
            "backgroundcolor": "#E5ECF6",
            "gridcolor": "white",
            "gridwidth": 2,
            "linecolor": "white",
            "showbackground": true,
            "ticks": "",
            "zerolinecolor": "white"
           }
          },
          "shapedefaults": {
           "line": {
            "color": "#2a3f5f"
           }
          },
          "ternary": {
           "aaxis": {
            "gridcolor": "white",
            "linecolor": "white",
            "ticks": ""
           },
           "baxis": {
            "gridcolor": "white",
            "linecolor": "white",
            "ticks": ""
           },
           "bgcolor": "#E5ECF6",
           "caxis": {
            "gridcolor": "white",
            "linecolor": "white",
            "ticks": ""
           }
          },
          "title": {
           "x": 0.05
          },
          "xaxis": {
           "automargin": true,
           "gridcolor": "white",
           "linecolor": "white",
           "ticks": "",
           "title": {
            "standoff": 15
           },
           "zerolinecolor": "white",
           "zerolinewidth": 2
          },
          "yaxis": {
           "automargin": true,
           "gridcolor": "white",
           "linecolor": "white",
           "ticks": "",
           "title": {
            "standoff": 15
           },
           "zerolinecolor": "white",
           "zerolinewidth": 2
          }
         }
        },
        "xaxis": {
         "autorange": true,
         "range": [
          -0.5,
          2.5
         ],
         "type": "category"
        },
        "yaxis": {
         "autorange": true,
         "range": [
          0,
          5.221238938053097
         ],
         "title": {
          "text": "Time (s)"
         },
         "type": "linear"
        }
       }
      },
      "image/png": "[encoded data removed]",
      "text/html": [
       "<div>                            <div id=\"efa1b853-8902-4efb-833b-359c3249e55c\" class=\"plotly-graph-div\" style=\"height:525px; width:100%;\"></div>            <script type=\"text/javascript\">                require([\"plotly\"], function(Plotly) {                    window.PLOTLYENV=window.PLOTLYENV || {};                                    if (document.getElementById(\"efa1b853-8902-4efb-833b-359c3249e55c\")) {                    Plotly.newPlot(                        \"efa1b853-8902-4efb-833b-359c3249e55c\",                        [{\"name\":\"90 deg/s - 20 m/s\",\"x\":[\"$t_2=1s$\",\"$t_2=2s$\",\"$t_2=3s$\"],\"y\":[3.6325,3.0925,3.105],\"type\":\"bar\"},{\"name\":\"60 deg/s - 20 m/s\",\"x\":[\"$t_2=1s$\",\"$t_2=2s$\",\"$t_2=3s$\"],\"y\":[3.33,3.015,3.0625],\"type\":\"bar\"},{\"name\":\"45 deg/s - 20 m/s\",\"x\":[\"$t_2=1s$\",\"$t_2=2s$\",\"$t_2=3s$\"],\"y\":[2.955,2.885,3.125],\"type\":\"bar\"},{\"name\":\"30 deg/s - 20 m/s\",\"x\":[\"$t_2=1s$\",\"$t_2=2s$\",\"$t_2=3s$\"],\"y\":[3.0475,3.8625,3.505],\"type\":\"bar\"},{\"name\":\"90 deg/s - 10 m/s\",\"x\":[\"$t_2=1s$\",\"$t_2=2s$\",\"$t_2=3s$\"],\"y\":[3.4825,3.705,3.555],\"type\":\"bar\"},{\"name\":\"60 deg/s - 10 m/s\",\"x\":[\"$t_2=1s$\",\"$t_2=2s$\",\"$t_2=3s$\"],\"y\":[3.55,3.5625,3.415],\"type\":\"bar\"},{\"name\":\"45 deg/s - 10 m/s\",\"x\":[\"$t_2=1s$\",\"$t_2=2s$\",\"$t_2=3s$\"],\"y\":[3.4425,3.585,3.4175],\"type\":\"bar\"},{\"name\":\"30 deg/s - 10 m/s\",\"x\":[\"$t_2=1s$\",\"$t_2=2s$\",\"$t_2=3s$\"],\"y\":[4.1425,3.7125,2.94],\"type\":\"bar\"}],                        {\"template\":{\"data\":{\"bar\":[{\"error_x\":{\"color\":\"#2a3f5f\"},\"error_y\":{\"color\":\"#2a3f5f\"},\"marker\":{\"line\":{\"color\":\"#E5ECF6\",\"width\":0.5},\"pattern\":{\"fillmode\":\"overlay\",\"size\":10,\"solidity\":0.2}},\"type\":\"bar\"}],\"barpolar\":[{\"marker\":{\"line\":{\"color\":\"#E5ECF6\",\"width\":0.5},\"pattern\":{\"fillmode\":\"overlay\",\"size\":10,\"solidity\":0.2}},\"type\":\"barpolar\"}],\"carpet\":[{\"aaxis\":{\"endlinecolor\":\"#2a3f5f\",\"gridcolor\":\"white\",\"linecolor\":\"white\",\"minorgridcolor\":\"white\",\"startlinecolor\":\"#2a3f5f\"},\"baxis\":{\"endlinecolor\":\"#2a3f5f\",\"gridcolor\":\"white\",\"linecolor\":\"white\",\"minorgridcolor\":\"white\",\"startlinecolor\":\"#2a3f5f\"},\"type\":\"carpet\"}],\"choropleth\":[{\"colorbar\":{\"outlinewidth\":0,\"ticks\":\"\"},\"type\":\"choropleth\"}],\"contour\":[{\"colorbar\":{\"outlinewidth\":0,\"ticks\":\"\"},\"colorscale\":[[0.0,\"#0d0887\"],[0.1111111111111111,\"#46039f\"],[0.2222222222222222,\"#7201a8\"],[0.3333333333333333,\"#9c179e\"],[0.4444444444444444,\"#bd3786\"],[0.5555555555555556,\"#d8576b\"],[0.6666666666666666,\"#ed7953\"],[0.7777777777777778,\"#fb9f3a\"],[0.8888888888888888,\"#fdca26\"],[1.0,\"#f0f921\"]],\"type\":\"contour\"}],\"contourcarpet\":[{\"colorbar\":{\"outlinewidth\":0,\"ticks\":\"\"},\"type\":\"contourcarpet\"}],\"heatmap\":[{\"colorbar\":{\"outlinewidth\":0,\"ticks\":\"\"},\"colorscale\":[[0.0,\"#0d0887\"],[0.1111111111111111,\"#46039f\"],[0.2222222222222222,\"#7201a8\"],[0.3333333333333333,\"#9c179e\"],[0.4444444444444444,\"#bd3786\"],[0.5555555555555556,\"#d8576b\"],[0.6666666666666666,\"#ed7953\"],[0.7777777777777778,\"#fb9f3a\"],[0.8888888888888888,\"#fdca26\"],[1.0,\"#f0f921\"]],\"type\":\"heatmap\"}],\"heatmapgl\":[{\"colorbar\":{\"outlinewidth\":0,\"ticks\":\"\"},\"colorscale\":[[0.0,\"#0d0887\"],[0.1111111111111111,\"#46039f\"],[0.2222222222222222,\"#7201a8\"],[0.3333333333333333,\"#9c179e\"],[0.4444444444444444,\"#bd3786\"],[0.5555555555555556,\"#d8576b\"],[0.6666666666666666,\"#ed7953\"],[0.7777777777777778,\"#fb9f3a\"],[0.8888888888888888,\"#fdca26\"],[1.0,\"#f0f921\"]],\"type\":\"heatmapgl\"}],\"histogram\":[{\"marker\":{\"pattern\":{\"fillmode\":\"overlay\",\"size\":10,\"solidity\":0.2}},\"type\":\"histogram\"}],\"histogram2d\":[{\"colorbar\":{\"outlinewidth\":0,\"ticks\":\"\"},\"colorscale\":[[0.0,\"#0d0887\"],[0.1111111111111111,\"#46039f\"],[0.2222222222222222,\"#7201a8\"],[0.3333333333333333,\"#9c179e\"],[0.4444444444444444,\"#bd3786\"],[0.5555555555555556,\"#d8576b\"],[0.6666666666666666,\"#ed7953\"],[0.7777777777777778,\"#fb9f3a\"],[0.8888888888888888,\"#fdca26\"],[1.0,\"#f0f921\"]],\"type\":\"histogram2d\"}],\"histogram2dcontour\":[{\"colorbar\":{\"outlinewidth\":0,\"ticks\":\"\"},\"colorscale\":[[0.0,\"#0d0887\"],[0.1111111111111111,\"#46039f\"],[0.2222222222222222,\"#7201a8\"],[0.3333333333333333,\"#9c179e\"],[0.4444444444444444,\"#bd3786\"],[0.5555555555555556,\"#d8576b\"],[0.6666666666666666,\"#ed7953\"],[0.7777777777777778,\"#fb9f3a\"],[0.8888888888888888,\"#fdca26\"],[1.0,\"#f0f921\"]],\"type\":\"histogram2dcontour\"}],\"mesh3d\":[{\"colorbar\":{\"outlinewidth\":0,\"ticks\":\"\"},\"type\":\"mesh3d\"}],\"parcoords\":[{\"line\":{\"colorbar\":{\"outlinewidth\":0,\"ticks\":\"\"}},\"type\":\"parcoords\"}],\"pie\":[{\"automargin\":true,\"type\":\"pie\"}],\"scatter\":[{\"marker\":{\"colorbar\":{\"outlinewidth\":0,\"ticks\":\"\"}},\"type\":\"scatter\"}],\"scatter3d\":[{\"line\":{\"colorbar\":{\"outlinewidth\":0,\"ticks\":\"\"}},\"marker\":{\"colorbar\":{\"outlinewidth\":0,\"ticks\":\"\"}},\"type\":\"scatter3d\"}],\"scattercarpet\":[{\"marker\":{\"colorbar\":{\"outlinewidth\":0,\"ticks\":\"\"}},\"type\":\"scattercarpet\"}],\"scattergeo\":[{\"marker\":{\"colorbar\":{\"outlinewidth\":0,\"ticks\":\"\"}},\"type\":\"scattergeo\"}],\"scattergl\":[{\"marker\":{\"colorbar\":{\"outlinewidth\":0,\"ticks\":\"\"}},\"type\":\"scattergl\"}],\"scattermapbox\":[{\"marker\":{\"colorbar\":{\"outlinewidth\":0,\"ticks\":\"\"}},\"type\":\"scattermapbox\"}],\"scatterpolar\":[{\"marker\":{\"colorbar\":{\"outlinewidth\":0,\"ticks\":\"\"}},\"type\":\"scatterpolar\"}],\"scatterpolargl\":[{\"marker\":{\"colorbar\":{\"outlinewidth\":0,\"ticks\":\"\"}},\"type\":\"scatterpolargl\"}],\"scatterternary\":[{\"marker\":{\"colorbar\":{\"outlinewidth\":0,\"ticks\":\"\"}},\"type\":\"scatterternary\"}],\"surface\":[{\"colorbar\":{\"outlinewidth\":0,\"ticks\":\"\"},\"colorscale\":[[0.0,\"#0d0887\"],[0.1111111111111111,\"#46039f\"],[0.2222222222222222,\"#7201a8\"],[0.3333333333333333,\"#9c179e\"],[0.4444444444444444,\"#bd3786\"],[0.5555555555555556,\"#d8576b\"],[0.6666666666666666,\"#ed7953\"],[0.7777777777777778,\"#fb9f3a\"],[0.8888888888888888,\"#fdca26\"],[1.0,\"#f0f921\"]],\"type\":\"surface\"}],\"table\":[{\"cells\":{\"fill\":{\"color\":\"#EBF0F8\"},\"line\":{\"color\":\"white\"}},\"header\":{\"fill\":{\"color\":\"#C8D4E3\"},\"line\":{\"color\":\"white\"}},\"type\":\"table\"}]},\"layout\":{\"annotationdefaults\":{\"arrowcolor\":\"#2a3f5f\",\"arrowhead\":0,\"arrowwidth\":1},\"autotypenumbers\":\"strict\",\"coloraxis\":{\"colorbar\":{\"outlinewidth\":0,\"ticks\":\"\"}},\"colorscale\":{\"diverging\":[[0,\"#8e0152\"],[0.1,\"#c51b7d\"],[0.2,\"#de77ae\"],[0.3,\"#f1b6da\"],[0.4,\"#fde0ef\"],[0.5,\"#f7f7f7\"],[0.6,\"#e6f5d0\"],[0.7,\"#b8e186\"],[0.8,\"#7fbc41\"],[0.9,\"#4d9221\"],[1,\"#276419\"]],\"sequential\":[[0.0,\"#0d0887\"],[0.1111111111111111,\"#46039f\"],[0.2222222222222222,\"#7201a8\"],[0.3333333333333333,\"#9c179e\"],[0.4444444444444444,\"#bd3786\"],[0.5555555555555556,\"#d8576b\"],[0.6666666666666666,\"#ed7953\"],[0.7777777777777778,\"#fb9f3a\"],[0.8888888888888888,\"#fdca26\"],[1.0,\"#f0f921\"]],\"sequentialminus\":[[0.0,\"#0d0887\"],[0.1111111111111111,\"#46039f\"],[0.2222222222222222,\"#7201a8\"],[0.3333333333333333,\"#9c179e\"],[0.4444444444444444,\"#bd3786\"],[0.5555555555555556,\"#d8576b\"],[0.6666666666666666,\"#ed7953\"],[0.7777777777777778,\"#fb9f3a\"],[0.8888888888888888,\"#fdca26\"],[1.0,\"#f0f921\"]]},\"colorway\":[\"#636efa\",\"#EF553B\",\"#00cc96\",\"#ab63fa\",\"#FFA15A\",\"#19d3f3\",\"#FF6692\",\"#B6E880\",\"#FF97FF\",\"#FECB52\"],\"font\":{\"color\":\"#2a3f5f\"},\"geo\":{\"bgcolor\":\"white\",\"lakecolor\":\"white\",\"landcolor\":\"#E5ECF6\",\"showlakes\":true,\"showland\":true,\"subunitcolor\":\"white\"},\"hoverlabel\":{\"align\":\"left\"},\"hovermode\":\"closest\",\"mapbox\":{\"style\":\"light\"},\"paper_bgcolor\":\"white\",\"plot_bgcolor\":\"#E5ECF6\",\"polar\":{\"angularaxis\":{\"gridcolor\":\"white\",\"linecolor\":\"white\",\"ticks\":\"\"},\"bgcolor\":\"#E5ECF6\",\"radialaxis\":{\"gridcolor\":\"white\",\"linecolor\":\"white\",\"ticks\":\"\"}},\"scene\":{\"xaxis\":{\"backgroundcolor\":\"#E5ECF6\",\"gridcolor\":\"white\",\"gridwidth\":2,\"linecolor\":\"white\",\"showbackground\":true,\"ticks\":\"\",\"zerolinecolor\":\"white\"},\"yaxis\":{\"backgroundcolor\":\"#E5ECF6\",\"gridcolor\":\"white\",\"gridwidth\":2,\"linecolor\":\"white\",\"showbackground\":true,\"ticks\":\"\",\"zerolinecolor\":\"white\"},\"zaxis\":{\"backgroundcolor\":\"#E5ECF6\",\"gridcolor\":\"white\",\"gridwidth\":2,\"linecolor\":\"white\",\"showbackground\":true,\"ticks\":\"\",\"zerolinecolor\":\"white\"}},\"shapedefaults\":{\"line\":{\"color\":\"#2a3f5f\"}},\"ternary\":{\"aaxis\":{\"gridcolor\":\"white\",\"linecolor\":\"white\",\"ticks\":\"\"},\"baxis\":{\"gridcolor\":\"white\",\"linecolor\":\"white\",\"ticks\":\"\"},\"bgcolor\":\"#E5ECF6\",\"caxis\":{\"gridcolor\":\"white\",\"linecolor\":\"white\",\"ticks\":\"\"}},\"title\":{\"x\":0.05},\"xaxis\":{\"automargin\":true,\"gridcolor\":\"white\",\"linecolor\":\"white\",\"ticks\":\"\",\"title\":{\"standoff\":15},\"zerolinecolor\":\"white\",\"zerolinewidth\":2},\"yaxis\":{\"automargin\":true,\"gridcolor\":\"white\",\"linecolor\":\"white\",\"ticks\":\"\",\"title\":{\"standoff\":15},\"zerolinecolor\":\"white\",\"zerolinewidth\":2}}},\"font\":{\"family\":\"Helvetica\",\"size\":10,\"color\":\"Black\"},\"barmode\":\"group\",\"margin\":{\"b\":0,\"l\":0,\"r\":0,\"t\":0},\"yaxis\":{\"title\":{\"text\":\"Time (s)\"}},\"legend\":{\"title\":{\"text\":\"sUAS TR (deg/s) and GS (m/s)\"}},\"shapes\":[{\"line\":{\"color\":\"red\",\"dash\":\"dash\",\"width\":3},\"type\":\"line\",\"x0\":0,\"x1\":1,\"xref\":\"x domain\",\"y0\":5,\"y1\":5,\"yref\":\"y\"}],\"annotations\":[{\"showarrow\":false,\"text\":\"minimum maneuvering time\",\"x\":0,\"xanchor\":\"left\",\"xref\":\"x domain\",\"y\":5,\"yanchor\":\"bottom\",\"yref\":\"y\"}]},                        {\"responsive\": true}                    ).then(function(){\n",
       "                            \n",
       "var gd = document.getElementById('efa1b853-8902-4efb-833b-359c3249e55c');\n",
       "var x = new MutationObserver(function (mutations, observer) {{\n",
       "        var display = window.getComputedStyle(gd).display;\n",
       "        if (!display || display === 'none') {{\n",
       "            console.log([gd, 'removed!']);\n",
       "            Plotly.purge(gd);\n",
       "            observer.disconnect();\n",
       "        }}\n",
       "}});\n",
       "\n",
       "// Listen for the removal of the full notebook cells\n",
       "var notebookContainer = gd.closest('#notebook-container');\n",
       "if (notebookContainer) {{\n",
       "    x.observe(notebookContainer, {childList: true});\n",
       "}}\n",
       "\n",
       "// Listen for the clearing of the current output cell\n",
       "var outputEl = gd.closest('.output');\n",
       "if (outputEl) {{\n",
       "    x.observe(outputEl, {childList: true});\n",
       "}}\n",
       "\n",
       "                        })                };                });            </script>        </div>"
      ]
     },
     "metadata": {},
     "output_type": "display_data"
    }
   ],
   "source": [
    "import plotly.graph_objects as go\n",
    "import itertools\n",
    "t2=['$t_2=1s$', '$t_2=2s$', '$t_2=3s$']\n",
    "s = [St5tr90h0_mean, St6tr90h0_mean, St7tr90h0_mean]\n",
    "s1 = list(itertools.chain(*s))\n",
    "p = [Stt1tr60h0_mean, Stt2tr60h0_mean, Stt3tr60h0_mean]\n",
    "p1 = list(itertools.chain(*p))\n",
    "q = [St6tr45h0_mean, St7tr45h0_mean, St8tr45h0_mean]\n",
    "q1 = list(itertools.chain(*q))\n",
    "r = [St7tr30h0_mean, St8tr30h0_mean,St9tr30h0_mean]\n",
    "r1 = list(itertools.chain(*r))\n",
    "\n",
    "k = [St5vtr90h0_mean, St6vtr90h0_mean, St7vtr90h0_mean]\n",
    "k1 = list(itertools.chain(*k))\n",
    "l = [Stt1vtr60h0_mean, Stt2vtr60h0_mean, Stt3vtr60h0_mean]\n",
    "l1 = list(itertools.chain(*l))\n",
    "m = [St6vtr45h0_mean, St7vtr45h0_mean, St8vtr45h0_mean]\n",
    "m1 = list(itertools.chain(*m))\n",
    "\n",
    "n = [[4.1425], St8vtr30h0_mean,St9vtr30h0_mean ]\n",
    "n1 = list(itertools.chain(*n))\n",
    "\n",
    "\n",
    "\n",
    "\n",
    "\n",
    "fig = go.Figure(data=[\n",
    "    go.Bar(name='90 deg/s - 20 m/s', x=t2, y=s1),\n",
    "    go.Bar(name='60 deg/s - 20 m/s', x=t2, y=p1),\n",
    "    go.Bar(name='45 deg/s - 20 m/s', x=t2, y=q1),\n",
    "    go.Bar(name='30 deg/s - 20 m/s', x=t2, y=r1),\n",
    "    go.Bar(name='90 deg/s - 10 m/s', x=t2, y=k1),\n",
    "    go.Bar(name='60 deg/s - 10 m/s', x=t2, y=l1),\n",
    "    go.Bar(name='45 deg/s - 10 m/s', x=t2, y=m1),\n",
    "    go.Bar(name='30 deg/s - 10 m/s', x=t2, y=n1)\n",
    "])\n",
    "# Change the bar mode\n",
    "fig.update_layout(barmode='group',margin=go.layout.Margin(\n",
    "        l=0, #left margin\n",
    "        r=0, #right margin\n",
    "        b=0, #bottom margin\n",
    "        t=0  #top margin\n",
    "    ),\n",
    "    #title=\"Average time of LoWC-WCR \", title_x=0.45, \n",
    "    #xaxis_title=\"Time (s)\",\n",
    "    yaxis_title=\"Time (s)\",\n",
    "    legend_title=\"sUAS TR (deg/s) and GS (m/s)\",\n",
    "    font=dict(\n",
    "        family=\"Helvetica\",\n",
    "        size=10,\n",
    "        color=\"Black\"\n",
    "    )\n",
    ")\n",
    "fig.add_hline(y=5, line_width=3, line_dash=\"dash\", line_color=\"red\", annotation_text=\"minimum maneuvering time\", \n",
    "              annotation_position=\"top left\")\n",
    "fig.write_image(\"images/NotWC.pdf\")\n",
    "fig.show()\n",
    "        "
   ]
  },
  {
   "cell_type": "code",
   "execution_count": 234,
   "id": "196d0f3d-525e-4945-afc8-76ce1e29a3b0",
   "metadata": {},
   "outputs": [],
   "source": [
    "nrm=[]\n",
    "for scenario in scenarios:\n",
    "    \n",
    "    values = []\n",
    "    for run in scenario.dist_lowc_sev:\n",
    "        maksimum = max([v[2] for v in run.values()])\n",
    "        values.append(maksimum)\n",
    "        if \"St5tr90h0v20vi15\" in scenario.name: \n",
    "            nrm.append(np.mean(values))\n",
    "            "
   ]
  },
  {
   "cell_type": "markdown",
   "id": "e1c28023-e497-4e74-8615-339204640c76",
   "metadata": {},
   "source": [
    "Comm and Wind Sensitivy"
   ]
  },
  {
   "cell_type": "code",
   "execution_count": 12,
   "id": "95b6dbf3-a3df-4da3-8ac9-2647be558a77",
   "metadata": {},
   "outputs": [
    {
     "data": {
      "application/vnd.plotly.v1+json": {
       "config": {
        "plotlyServerURL": "https://plot.ly"
       },
       "data": [
        {
         "marker": {
          "color": [
           "#ea6700",
           "#cd1010",
           "#dd4405"
          ]
         },
         "name": "90 deg/s - 20 m/s",
         "type": "bar",
         "x": [
          "det",
          "delay",
          "wind"
         ],
         "y": [
          0.2395,
          0.805,
          0.3969
         ]
        }
       ],
       "layout": {
        "autosize": true,
        "font": {
         "color": "Black",
         "family": "Helvetica",
         "size": 10
        },
        "margin": {
         "b": 0,
         "l": 0,
         "r": 0,
         "t": 0
        },
        "template": {
         "data": {
          "bar": [
           {
            "error_x": {
             "color": "#2a3f5f"
            },
            "error_y": {
             "color": "#2a3f5f"
            },
            "marker": {
             "line": {
              "color": "#E5ECF6",
              "width": 0.5
             },
             "pattern": {
              "fillmode": "overlay",
              "size": 10,
              "solidity": 0.2
             }
            },
            "type": "bar"
           }
          ],
          "barpolar": [
           {
            "marker": {
             "line": {
              "color": "#E5ECF6",
              "width": 0.5
             },
             "pattern": {
              "fillmode": "overlay",
              "size": 10,
              "solidity": 0.2
             }
            },
            "type": "barpolar"
           }
          ],
          "carpet": [
           {
            "aaxis": {
             "endlinecolor": "#2a3f5f",
             "gridcolor": "white",
             "linecolor": "white",
             "minorgridcolor": "white",
             "startlinecolor": "#2a3f5f"
            },
            "baxis": {
             "endlinecolor": "#2a3f5f",
             "gridcolor": "white",
             "linecolor": "white",
             "minorgridcolor": "white",
             "startlinecolor": "#2a3f5f"
            },
            "type": "carpet"
           }
          ],
          "choropleth": [
           {
            "colorbar": {
             "outlinewidth": 0,
             "ticks": ""
            },
            "type": "choropleth"
           }
          ],
          "contour": [
           {
            "colorbar": {
             "outlinewidth": 0,
             "ticks": ""
            },
            "colorscale": [
             [
              0,
              "#0d0887"
             ],
             [
              0.1111111111111111,
              "#46039f"
             ],
             [
              0.2222222222222222,
              "#7201a8"
             ],
             [
              0.3333333333333333,
              "#9c179e"
             ],
             [
              0.4444444444444444,
              "#bd3786"
             ],
             [
              0.5555555555555556,
              "#d8576b"
             ],
             [
              0.6666666666666666,
              "#ed7953"
             ],
             [
              0.7777777777777778,
              "#fb9f3a"
             ],
             [
              0.8888888888888888,
              "#fdca26"
             ],
             [
              1,
              "#f0f921"
             ]
            ],
            "type": "contour"
           }
          ],
          "contourcarpet": [
           {
            "colorbar": {
             "outlinewidth": 0,
             "ticks": ""
            },
            "type": "contourcarpet"
           }
          ],
          "heatmap": [
           {
            "colorbar": {
             "outlinewidth": 0,
             "ticks": ""
            },
            "colorscale": [
             [
              0,
              "#0d0887"
             ],
             [
              0.1111111111111111,
              "#46039f"
             ],
             [
              0.2222222222222222,
              "#7201a8"
             ],
             [
              0.3333333333333333,
              "#9c179e"
             ],
             [
              0.4444444444444444,
              "#bd3786"
             ],
             [
              0.5555555555555556,
              "#d8576b"
             ],
             [
              0.6666666666666666,
              "#ed7953"
             ],
             [
              0.7777777777777778,
              "#fb9f3a"
             ],
             [
              0.8888888888888888,
              "#fdca26"
             ],
             [
              1,
              "#f0f921"
             ]
            ],
            "type": "heatmap"
           }
          ],
          "heatmapgl": [
           {
            "colorbar": {
             "outlinewidth": 0,
             "ticks": ""
            },
            "colorscale": [
             [
              0,
              "#0d0887"
             ],
             [
              0.1111111111111111,
              "#46039f"
             ],
             [
              0.2222222222222222,
              "#7201a8"
             ],
             [
              0.3333333333333333,
              "#9c179e"
             ],
             [
              0.4444444444444444,
              "#bd3786"
             ],
             [
              0.5555555555555556,
              "#d8576b"
             ],
             [
              0.6666666666666666,
              "#ed7953"
             ],
             [
              0.7777777777777778,
              "#fb9f3a"
             ],
             [
              0.8888888888888888,
              "#fdca26"
             ],
             [
              1,
              "#f0f921"
             ]
            ],
            "type": "heatmapgl"
           }
          ],
          "histogram": [
           {
            "marker": {
             "pattern": {
              "fillmode": "overlay",
              "size": 10,
              "solidity": 0.2
             }
            },
            "type": "histogram"
           }
          ],
          "histogram2d": [
           {
            "colorbar": {
             "outlinewidth": 0,
             "ticks": ""
            },
            "colorscale": [
             [
              0,
              "#0d0887"
             ],
             [
              0.1111111111111111,
              "#46039f"
             ],
             [
              0.2222222222222222,
              "#7201a8"
             ],
             [
              0.3333333333333333,
              "#9c179e"
             ],
             [
              0.4444444444444444,
              "#bd3786"
             ],
             [
              0.5555555555555556,
              "#d8576b"
             ],
             [
              0.6666666666666666,
              "#ed7953"
             ],
             [
              0.7777777777777778,
              "#fb9f3a"
             ],
             [
              0.8888888888888888,
              "#fdca26"
             ],
             [
              1,
              "#f0f921"
             ]
            ],
            "type": "histogram2d"
           }
          ],
          "histogram2dcontour": [
           {
            "colorbar": {
             "outlinewidth": 0,
             "ticks": ""
            },
            "colorscale": [
             [
              0,
              "#0d0887"
             ],
             [
              0.1111111111111111,
              "#46039f"
             ],
             [
              0.2222222222222222,
              "#7201a8"
             ],
             [
              0.3333333333333333,
              "#9c179e"
             ],
             [
              0.4444444444444444,
              "#bd3786"
             ],
             [
              0.5555555555555556,
              "#d8576b"
             ],
             [
              0.6666666666666666,
              "#ed7953"
             ],
             [
              0.7777777777777778,
              "#fb9f3a"
             ],
             [
              0.8888888888888888,
              "#fdca26"
             ],
             [
              1,
              "#f0f921"
             ]
            ],
            "type": "histogram2dcontour"
           }
          ],
          "mesh3d": [
           {
            "colorbar": {
             "outlinewidth": 0,
             "ticks": ""
            },
            "type": "mesh3d"
           }
          ],
          "parcoords": [
           {
            "line": {
             "colorbar": {
              "outlinewidth": 0,
              "ticks": ""
             }
            },
            "type": "parcoords"
           }
          ],
          "pie": [
           {
            "automargin": true,
            "type": "pie"
           }
          ],
          "scatter": [
           {
            "marker": {
             "colorbar": {
              "outlinewidth": 0,
              "ticks": ""
             }
            },
            "type": "scatter"
           }
          ],
          "scatter3d": [
           {
            "line": {
             "colorbar": {
              "outlinewidth": 0,
              "ticks": ""
             }
            },
            "marker": {
             "colorbar": {
              "outlinewidth": 0,
              "ticks": ""
             }
            },
            "type": "scatter3d"
           }
          ],
          "scattercarpet": [
           {
            "marker": {
             "colorbar": {
              "outlinewidth": 0,
              "ticks": ""
             }
            },
            "type": "scattercarpet"
           }
          ],
          "scattergeo": [
           {
            "marker": {
             "colorbar": {
              "outlinewidth": 0,
              "ticks": ""
             }
            },
            "type": "scattergeo"
           }
          ],
          "scattergl": [
           {
            "marker": {
             "colorbar": {
              "outlinewidth": 0,
              "ticks": ""
             }
            },
            "type": "scattergl"
           }
          ],
          "scattermapbox": [
           {
            "marker": {
             "colorbar": {
              "outlinewidth": 0,
              "ticks": ""
             }
            },
            "type": "scattermapbox"
           }
          ],
          "scatterpolar": [
           {
            "marker": {
             "colorbar": {
              "outlinewidth": 0,
              "ticks": ""
             }
            },
            "type": "scatterpolar"
           }
          ],
          "scatterpolargl": [
           {
            "marker": {
             "colorbar": {
              "outlinewidth": 0,
              "ticks": ""
             }
            },
            "type": "scatterpolargl"
           }
          ],
          "scatterternary": [
           {
            "marker": {
             "colorbar": {
              "outlinewidth": 0,
              "ticks": ""
             }
            },
            "type": "scatterternary"
           }
          ],
          "surface": [
           {
            "colorbar": {
             "outlinewidth": 0,
             "ticks": ""
            },
            "colorscale": [
             [
              0,
              "#0d0887"
             ],
             [
              0.1111111111111111,
              "#46039f"
             ],
             [
              0.2222222222222222,
              "#7201a8"
             ],
             [
              0.3333333333333333,
              "#9c179e"
             ],
             [
              0.4444444444444444,
              "#bd3786"
             ],
             [
              0.5555555555555556,
              "#d8576b"
             ],
             [
              0.6666666666666666,
              "#ed7953"
             ],
             [
              0.7777777777777778,
              "#fb9f3a"
             ],
             [
              0.8888888888888888,
              "#fdca26"
             ],
             [
              1,
              "#f0f921"
             ]
            ],
            "type": "surface"
           }
          ],
          "table": [
           {
            "cells": {
             "fill": {
              "color": "#EBF0F8"
             },
             "line": {
              "color": "white"
             }
            },
            "header": {
             "fill": {
              "color": "#C8D4E3"
             },
             "line": {
              "color": "white"
             }
            },
            "type": "table"
           }
          ]
         },
         "layout": {
          "annotationdefaults": {
           "arrowcolor": "#2a3f5f",
           "arrowhead": 0,
           "arrowwidth": 1
          },
          "autotypenumbers": "strict",
          "coloraxis": {
           "colorbar": {
            "outlinewidth": 0,
            "ticks": ""
           }
          },
          "colorscale": {
           "diverging": [
            [
             0,
             "#8e0152"
            ],
            [
             0.1,
             "#c51b7d"
            ],
            [
             0.2,
             "#de77ae"
            ],
            [
             0.3,
             "#f1b6da"
            ],
            [
             0.4,
             "#fde0ef"
            ],
            [
             0.5,
             "#f7f7f7"
            ],
            [
             0.6,
             "#e6f5d0"
            ],
            [
             0.7,
             "#b8e186"
            ],
            [
             0.8,
             "#7fbc41"
            ],
            [
             0.9,
             "#4d9221"
            ],
            [
             1,
             "#276419"
            ]
           ],
           "sequential": [
            [
             0,
             "#0d0887"
            ],
            [
             0.1111111111111111,
             "#46039f"
            ],
            [
             0.2222222222222222,
             "#7201a8"
            ],
            [
             0.3333333333333333,
             "#9c179e"
            ],
            [
             0.4444444444444444,
             "#bd3786"
            ],
            [
             0.5555555555555556,
             "#d8576b"
            ],
            [
             0.6666666666666666,
             "#ed7953"
            ],
            [
             0.7777777777777778,
             "#fb9f3a"
            ],
            [
             0.8888888888888888,
             "#fdca26"
            ],
            [
             1,
             "#f0f921"
            ]
           ],
           "sequentialminus": [
            [
             0,
             "#0d0887"
            ],
            [
             0.1111111111111111,
             "#46039f"
            ],
            [
             0.2222222222222222,
             "#7201a8"
            ],
            [
             0.3333333333333333,
             "#9c179e"
            ],
            [
             0.4444444444444444,
             "#bd3786"
            ],
            [
             0.5555555555555556,
             "#d8576b"
            ],
            [
             0.6666666666666666,
             "#ed7953"
            ],
            [
             0.7777777777777778,
             "#fb9f3a"
            ],
            [
             0.8888888888888888,
             "#fdca26"
            ],
            [
             1,
             "#f0f921"
            ]
           ]
          },
          "colorway": [
           "#636efa",
           "#EF553B",
           "#00cc96",
           "#ab63fa",
           "#FFA15A",
           "#19d3f3",
           "#FF6692",
           "#B6E880",
           "#FF97FF",
           "#FECB52"
          ],
          "font": {
           "color": "#2a3f5f"
          },
          "geo": {
           "bgcolor": "white",
           "lakecolor": "white",
           "landcolor": "#E5ECF6",
           "showlakes": true,
           "showland": true,
           "subunitcolor": "white"
          },
          "hoverlabel": {
           "align": "left"
          },
          "hovermode": "closest",
          "mapbox": {
           "style": "light"
          },
          "paper_bgcolor": "white",
          "plot_bgcolor": "#E5ECF6",
          "polar": {
           "angularaxis": {
            "gridcolor": "white",
            "linecolor": "white",
            "ticks": ""
           },
           "bgcolor": "#E5ECF6",
           "radialaxis": {
            "gridcolor": "white",
            "linecolor": "white",
            "ticks": ""
           }
          },
          "scene": {
           "xaxis": {
            "backgroundcolor": "#E5ECF6",
            "gridcolor": "white",
            "gridwidth": 2,
            "linecolor": "white",
            "showbackground": true,
            "ticks": "",
            "zerolinecolor": "white"
           },
           "yaxis": {
            "backgroundcolor": "#E5ECF6",
            "gridcolor": "white",
            "gridwidth": 2,
            "linecolor": "white",
            "showbackground": true,
            "ticks": "",
            "zerolinecolor": "white"
           },
           "zaxis": {
            "backgroundcolor": "#E5ECF6",
            "gridcolor": "white",
            "gridwidth": 2,
            "linecolor": "white",
            "showbackground": true,
            "ticks": "",
            "zerolinecolor": "white"
           }
          },
          "shapedefaults": {
           "line": {
            "color": "#2a3f5f"
           }
          },
          "ternary": {
           "aaxis": {
            "gridcolor": "white",
            "linecolor": "white",
            "ticks": ""
           },
           "baxis": {
            "gridcolor": "white",
            "linecolor": "white",
            "ticks": ""
           },
           "bgcolor": "#E5ECF6",
           "caxis": {
            "gridcolor": "white",
            "linecolor": "white",
            "ticks": ""
           }
          },
          "title": {
           "x": 0.05
          },
          "xaxis": {
           "automargin": true,
           "gridcolor": "white",
           "linecolor": "white",
           "ticks": "",
           "title": {
            "standoff": 15
           },
           "zerolinecolor": "white",
           "zerolinewidth": 2
          },
          "yaxis": {
           "automargin": true,
           "gridcolor": "white",
           "linecolor": "white",
           "ticks": "",
           "title": {
            "standoff": 15
           },
           "zerolinecolor": "white",
           "zerolinewidth": 2
          }
         }
        },
        "xaxis": {
         "autorange": true,
         "range": [
          -0.5,
          2.5
         ],
         "type": "category"
        },
        "yaxis": {
         "autorange": true,
         "range": [
          0,
          0.8473684210526317
         ],
         "title": {
          "text": "Severity"
         },
         "type": "linear"
        }
       }
      },
      "image/png": "[encoded data removed]",
      "text/html": [
       "<div>                            <div id=\"932061fb-318e-4c3d-8853-f054ea932e91\" class=\"plotly-graph-div\" style=\"height:525px; width:100%;\"></div>            <script type=\"text/javascript\">                require([\"plotly\"], function(Plotly) {                    window.PLOTLYENV=window.PLOTLYENV || {};                                    if (document.getElementById(\"932061fb-318e-4c3d-8853-f054ea932e91\")) {                    Plotly.newPlot(                        \"932061fb-318e-4c3d-8853-f054ea932e91\",                        [{\"marker\":{\"color\":[\"#ea6700\",\"#cd1010\",\"#dd4405\"]},\"name\":\"90 deg/s - 20 m/s\",\"x\":[\"det\",\"delay\",\"wind\"],\"y\":[0.2395,0.805,0.3969],\"type\":\"bar\"}],                        {\"template\":{\"data\":{\"bar\":[{\"error_x\":{\"color\":\"#2a3f5f\"},\"error_y\":{\"color\":\"#2a3f5f\"},\"marker\":{\"line\":{\"color\":\"#E5ECF6\",\"width\":0.5},\"pattern\":{\"fillmode\":\"overlay\",\"size\":10,\"solidity\":0.2}},\"type\":\"bar\"}],\"barpolar\":[{\"marker\":{\"line\":{\"color\":\"#E5ECF6\",\"width\":0.5},\"pattern\":{\"fillmode\":\"overlay\",\"size\":10,\"solidity\":0.2}},\"type\":\"barpolar\"}],\"carpet\":[{\"aaxis\":{\"endlinecolor\":\"#2a3f5f\",\"gridcolor\":\"white\",\"linecolor\":\"white\",\"minorgridcolor\":\"white\",\"startlinecolor\":\"#2a3f5f\"},\"baxis\":{\"endlinecolor\":\"#2a3f5f\",\"gridcolor\":\"white\",\"linecolor\":\"white\",\"minorgridcolor\":\"white\",\"startlinecolor\":\"#2a3f5f\"},\"type\":\"carpet\"}],\"choropleth\":[{\"colorbar\":{\"outlinewidth\":0,\"ticks\":\"\"},\"type\":\"choropleth\"}],\"contour\":[{\"colorbar\":{\"outlinewidth\":0,\"ticks\":\"\"},\"colorscale\":[[0.0,\"#0d0887\"],[0.1111111111111111,\"#46039f\"],[0.2222222222222222,\"#7201a8\"],[0.3333333333333333,\"#9c179e\"],[0.4444444444444444,\"#bd3786\"],[0.5555555555555556,\"#d8576b\"],[0.6666666666666666,\"#ed7953\"],[0.7777777777777778,\"#fb9f3a\"],[0.8888888888888888,\"#fdca26\"],[1.0,\"#f0f921\"]],\"type\":\"contour\"}],\"contourcarpet\":[{\"colorbar\":{\"outlinewidth\":0,\"ticks\":\"\"},\"type\":\"contourcarpet\"}],\"heatmap\":[{\"colorbar\":{\"outlinewidth\":0,\"ticks\":\"\"},\"colorscale\":[[0.0,\"#0d0887\"],[0.1111111111111111,\"#46039f\"],[0.2222222222222222,\"#7201a8\"],[0.3333333333333333,\"#9c179e\"],[0.4444444444444444,\"#bd3786\"],[0.5555555555555556,\"#d8576b\"],[0.6666666666666666,\"#ed7953\"],[0.7777777777777778,\"#fb9f3a\"],[0.8888888888888888,\"#fdca26\"],[1.0,\"#f0f921\"]],\"type\":\"heatmap\"}],\"heatmapgl\":[{\"colorbar\":{\"outlinewidth\":0,\"ticks\":\"\"},\"colorscale\":[[0.0,\"#0d0887\"],[0.1111111111111111,\"#46039f\"],[0.2222222222222222,\"#7201a8\"],[0.3333333333333333,\"#9c179e\"],[0.4444444444444444,\"#bd3786\"],[0.5555555555555556,\"#d8576b\"],[0.6666666666666666,\"#ed7953\"],[0.7777777777777778,\"#fb9f3a\"],[0.8888888888888888,\"#fdca26\"],[1.0,\"#f0f921\"]],\"type\":\"heatmapgl\"}],\"histogram\":[{\"marker\":{\"pattern\":{\"fillmode\":\"overlay\",\"size\":10,\"solidity\":0.2}},\"type\":\"histogram\"}],\"histogram2d\":[{\"colorbar\":{\"outlinewidth\":0,\"ticks\":\"\"},\"colorscale\":[[0.0,\"#0d0887\"],[0.1111111111111111,\"#46039f\"],[0.2222222222222222,\"#7201a8\"],[0.3333333333333333,\"#9c179e\"],[0.4444444444444444,\"#bd3786\"],[0.5555555555555556,\"#d8576b\"],[0.6666666666666666,\"#ed7953\"],[0.7777777777777778,\"#fb9f3a\"],[0.8888888888888888,\"#fdca26\"],[1.0,\"#f0f921\"]],\"type\":\"histogram2d\"}],\"histogram2dcontour\":[{\"colorbar\":{\"outlinewidth\":0,\"ticks\":\"\"},\"colorscale\":[[0.0,\"#0d0887\"],[0.1111111111111111,\"#46039f\"],[0.2222222222222222,\"#7201a8\"],[0.3333333333333333,\"#9c179e\"],[0.4444444444444444,\"#bd3786\"],[0.5555555555555556,\"#d8576b\"],[0.6666666666666666,\"#ed7953\"],[0.7777777777777778,\"#fb9f3a\"],[0.8888888888888888,\"#fdca26\"],[1.0,\"#f0f921\"]],\"type\":\"histogram2dcontour\"}],\"mesh3d\":[{\"colorbar\":{\"outlinewidth\":0,\"ticks\":\"\"},\"type\":\"mesh3d\"}],\"parcoords\":[{\"line\":{\"colorbar\":{\"outlinewidth\":0,\"ticks\":\"\"}},\"type\":\"parcoords\"}],\"pie\":[{\"automargin\":true,\"type\":\"pie\"}],\"scatter\":[{\"marker\":{\"colorbar\":{\"outlinewidth\":0,\"ticks\":\"\"}},\"type\":\"scatter\"}],\"scatter3d\":[{\"line\":{\"colorbar\":{\"outlinewidth\":0,\"ticks\":\"\"}},\"marker\":{\"colorbar\":{\"outlinewidth\":0,\"ticks\":\"\"}},\"type\":\"scatter3d\"}],\"scattercarpet\":[{\"marker\":{\"colorbar\":{\"outlinewidth\":0,\"ticks\":\"\"}},\"type\":\"scattercarpet\"}],\"scattergeo\":[{\"marker\":{\"colorbar\":{\"outlinewidth\":0,\"ticks\":\"\"}},\"type\":\"scattergeo\"}],\"scattergl\":[{\"marker\":{\"colorbar\":{\"outlinewidth\":0,\"ticks\":\"\"}},\"type\":\"scattergl\"}],\"scattermapbox\":[{\"marker\":{\"colorbar\":{\"outlinewidth\":0,\"ticks\":\"\"}},\"type\":\"scattermapbox\"}],\"scatterpolar\":[{\"marker\":{\"colorbar\":{\"outlinewidth\":0,\"ticks\":\"\"}},\"type\":\"scatterpolar\"}],\"scatterpolargl\":[{\"marker\":{\"colorbar\":{\"outlinewidth\":0,\"ticks\":\"\"}},\"type\":\"scatterpolargl\"}],\"scatterternary\":[{\"marker\":{\"colorbar\":{\"outlinewidth\":0,\"ticks\":\"\"}},\"type\":\"scatterternary\"}],\"surface\":[{\"colorbar\":{\"outlinewidth\":0,\"ticks\":\"\"},\"colorscale\":[[0.0,\"#0d0887\"],[0.1111111111111111,\"#46039f\"],[0.2222222222222222,\"#7201a8\"],[0.3333333333333333,\"#9c179e\"],[0.4444444444444444,\"#bd3786\"],[0.5555555555555556,\"#d8576b\"],[0.6666666666666666,\"#ed7953\"],[0.7777777777777778,\"#fb9f3a\"],[0.8888888888888888,\"#fdca26\"],[1.0,\"#f0f921\"]],\"type\":\"surface\"}],\"table\":[{\"cells\":{\"fill\":{\"color\":\"#EBF0F8\"},\"line\":{\"color\":\"white\"}},\"header\":{\"fill\":{\"color\":\"#C8D4E3\"},\"line\":{\"color\":\"white\"}},\"type\":\"table\"}]},\"layout\":{\"annotationdefaults\":{\"arrowcolor\":\"#2a3f5f\",\"arrowhead\":0,\"arrowwidth\":1},\"autotypenumbers\":\"strict\",\"coloraxis\":{\"colorbar\":{\"outlinewidth\":0,\"ticks\":\"\"}},\"colorscale\":{\"diverging\":[[0,\"#8e0152\"],[0.1,\"#c51b7d\"],[0.2,\"#de77ae\"],[0.3,\"#f1b6da\"],[0.4,\"#fde0ef\"],[0.5,\"#f7f7f7\"],[0.6,\"#e6f5d0\"],[0.7,\"#b8e186\"],[0.8,\"#7fbc41\"],[0.9,\"#4d9221\"],[1,\"#276419\"]],\"sequential\":[[0.0,\"#0d0887\"],[0.1111111111111111,\"#46039f\"],[0.2222222222222222,\"#7201a8\"],[0.3333333333333333,\"#9c179e\"],[0.4444444444444444,\"#bd3786\"],[0.5555555555555556,\"#d8576b\"],[0.6666666666666666,\"#ed7953\"],[0.7777777777777778,\"#fb9f3a\"],[0.8888888888888888,\"#fdca26\"],[1.0,\"#f0f921\"]],\"sequentialminus\":[[0.0,\"#0d0887\"],[0.1111111111111111,\"#46039f\"],[0.2222222222222222,\"#7201a8\"],[0.3333333333333333,\"#9c179e\"],[0.4444444444444444,\"#bd3786\"],[0.5555555555555556,\"#d8576b\"],[0.6666666666666666,\"#ed7953\"],[0.7777777777777778,\"#fb9f3a\"],[0.8888888888888888,\"#fdca26\"],[1.0,\"#f0f921\"]]},\"colorway\":[\"#636efa\",\"#EF553B\",\"#00cc96\",\"#ab63fa\",\"#FFA15A\",\"#19d3f3\",\"#FF6692\",\"#B6E880\",\"#FF97FF\",\"#FECB52\"],\"font\":{\"color\":\"#2a3f5f\"},\"geo\":{\"bgcolor\":\"white\",\"lakecolor\":\"white\",\"landcolor\":\"#E5ECF6\",\"showlakes\":true,\"showland\":true,\"subunitcolor\":\"white\"},\"hoverlabel\":{\"align\":\"left\"},\"hovermode\":\"closest\",\"mapbox\":{\"style\":\"light\"},\"paper_bgcolor\":\"white\",\"plot_bgcolor\":\"#E5ECF6\",\"polar\":{\"angularaxis\":{\"gridcolor\":\"white\",\"linecolor\":\"white\",\"ticks\":\"\"},\"bgcolor\":\"#E5ECF6\",\"radialaxis\":{\"gridcolor\":\"white\",\"linecolor\":\"white\",\"ticks\":\"\"}},\"scene\":{\"xaxis\":{\"backgroundcolor\":\"#E5ECF6\",\"gridcolor\":\"white\",\"gridwidth\":2,\"linecolor\":\"white\",\"showbackground\":true,\"ticks\":\"\",\"zerolinecolor\":\"white\"},\"yaxis\":{\"backgroundcolor\":\"#E5ECF6\",\"gridcolor\":\"white\",\"gridwidth\":2,\"linecolor\":\"white\",\"showbackground\":true,\"ticks\":\"\",\"zerolinecolor\":\"white\"},\"zaxis\":{\"backgroundcolor\":\"#E5ECF6\",\"gridcolor\":\"white\",\"gridwidth\":2,\"linecolor\":\"white\",\"showbackground\":true,\"ticks\":\"\",\"zerolinecolor\":\"white\"}},\"shapedefaults\":{\"line\":{\"color\":\"#2a3f5f\"}},\"ternary\":{\"aaxis\":{\"gridcolor\":\"white\",\"linecolor\":\"white\",\"ticks\":\"\"},\"baxis\":{\"gridcolor\":\"white\",\"linecolor\":\"white\",\"ticks\":\"\"},\"bgcolor\":\"#E5ECF6\",\"caxis\":{\"gridcolor\":\"white\",\"linecolor\":\"white\",\"ticks\":\"\"}},\"title\":{\"x\":0.05},\"xaxis\":{\"automargin\":true,\"gridcolor\":\"white\",\"linecolor\":\"white\",\"ticks\":\"\",\"title\":{\"standoff\":15},\"zerolinecolor\":\"white\",\"zerolinewidth\":2},\"yaxis\":{\"automargin\":true,\"gridcolor\":\"white\",\"linecolor\":\"white\",\"ticks\":\"\",\"title\":{\"standoff\":15},\"zerolinecolor\":\"white\",\"zerolinewidth\":2}}},\"font\":{\"family\":\"Helvetica\",\"size\":10,\"color\":\"Black\"},\"margin\":{\"b\":0,\"l\":0,\"r\":0,\"t\":0},\"yaxis\":{\"title\":{\"text\":\"Severity\"}}},                        {\"responsive\": true}                    ).then(function(){\n",
       "                            \n",
       "var gd = document.getElementById('932061fb-318e-4c3d-8853-f054ea932e91');\n",
       "var x = new MutationObserver(function (mutations, observer) {{\n",
       "        var display = window.getComputedStyle(gd).display;\n",
       "        if (!display || display === 'none') {{\n",
       "            console.log([gd, 'removed!']);\n",
       "            Plotly.purge(gd);\n",
       "            observer.disconnect();\n",
       "        }}\n",
       "}});\n",
       "\n",
       "// Listen for the removal of the full notebook cells\n",
       "var notebookContainer = gd.closest('#notebook-container');\n",
       "if (notebookContainer) {{\n",
       "    x.observe(notebookContainer, {childList: true});\n",
       "}}\n",
       "\n",
       "// Listen for the clearing of the current output cell\n",
       "var outputEl = gd.closest('.output');\n",
       "if (outputEl) {{\n",
       "    x.observe(outputEl, {childList: true});\n",
       "}}\n",
       "\n",
       "                        })                };                });            </script>        </div>"
      ]
     },
     "metadata": {},
     "output_type": "display_data"
    }
   ],
   "source": [
    "a=['det','delay','wind']\n",
    "b=[0.2395, 0.805, 0.3969]\n",
    "c = ['#ea6700','#cd1010','#dd4405']\n",
    "fig = go.Figure(data=[\n",
    "    go.Bar(name='90 deg/s - 20 m/s', x=a, y=b, marker_color=c)])\n",
    "# Change the bar mode\n",
    "fig.update_layout(margin=go.layout.Margin(\n",
    "        l=0, #left margin\n",
    "        r=0, #right margin\n",
    "        b=0, #bottom margin\n",
    "        t=0  #top margin\n",
    "    ),\n",
    "    #title=\"Average time of LoWC-WCR \", title_x=0.5, \n",
    "    #xaxis_title=\"Time (s)\",\n",
    "    yaxis_title=\"Severity\",\n",
    "    #legend_title=\"sUAS turning rate and air speed\",\n",
    "    font=dict(\n",
    "        family=\"Helvetica\",\n",
    "        size=10,\n",
    "        color=\"Black\"))\n",
    "fig.write_image(\"images/factors.pdf\")\n",
    "fig.show()"
   ]
  },
  {
   "cell_type": "code",
   "execution_count": null,
   "id": "a94cf69d-3b5c-4d59-b04a-d976fc429cc5",
   "metadata": {},
   "outputs": [],
   "source": []
  }
 ],
 "metadata": {
  "kernelspec": {
   "display_name": "Python 3",
   "language": "python",
   "name": "python3"
  },
  "language_info": {
   "codemirror_mode": {
    "name": "ipython",
    "version": 3
   },
   "file_extension": ".py",
   "mimetype": "text/x-python",
   "name": "python",
   "nbconvert_exporter": "python",
   "pygments_lexer": "ipython3",
   "version": "3.8.8"
  }
 },
 "nbformat": 4,
 "nbformat_minor": 5
}
